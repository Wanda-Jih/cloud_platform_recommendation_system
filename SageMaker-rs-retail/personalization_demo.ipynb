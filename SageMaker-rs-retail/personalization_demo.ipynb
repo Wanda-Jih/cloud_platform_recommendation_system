{
 "cells": [
  {
   "cell_type": "markdown",
   "metadata": {},
   "source": [
    "# Recommendation Engine for E-Commerce Sales: Part 1. Data Preparation\n",
    "\n",
    "This notebook gives an overview of techniques and services offer by SageMaker to build and deploy a personalized recommendation engine.\n",
    "\n",
    "## Dataset\n",
    "\n",
    "The dataset for this demo comes from the [UCI Machine Learning Repository](https://archive.ics.uci.edu/ml/datasets/Online+Retail). It contains all the transactions occurring between 01/12/2010 and 09/12/2011 for a UK-based and registered non-store online retail. The company mainly sells unique all-occasion gifts. The following attributes are included in our dataset:\n",
    "+ InvoiceNo: Invoice number. Nominal, a 6-digit integral number uniquely assigned to each transaction. If this code starts with letter 'c', it indicates a cancellation.\n",
    "+ StockCode: Product (item) code. Nominal, a 5-digit integral number uniquely assigned to each distinct product.\n",
    "+ Description: Product (item) name. Nominal.\n",
    "+ Quantity: The quantities of each product (item) per transaction. Numeric.\n",
    "+ InvoiceDate: Invice Date and time. Numeric, the day and time when each transaction was generated.\n",
    "+ UnitPrice: Unit price. Numeric, Product price per unit in sterling.\n",
    "+ CustomerID: Customer number. Nominal, a 5-digit integral number uniquely assigned to each customer.\n",
    "+ Country: Country name. Nominal, the name of the country where each customer resides. \n",
    "\n",
    "Citation: Daqing Chen, Sai Liang Sain, and Kun Guo, Data mining for the online retail industry: A case study of RFM model-based customer segmentation using data mining, Journal of Database Marketing and Customer Strategy Management, Vol. 19, No. 3, pp. 197â€“208, 2012 (Published online before print: 27 August 2012. doi: 10.1057/dbm.2012.17)"
   ]
  },
  {
   "cell_type": "markdown",
   "metadata": {},
   "source": [
    "## Solution Architecture\n",
    "----\n",
    "![Architecture](./images/retail_rec_dataprep.png)"
   ]
  },
  {
   "cell_type": "code",
   "execution_count": 4,
   "metadata": {},
   "outputs": [
    {
     "name": "stdout",
     "output_type": "stream",
     "text": [
      "\u001b[33mDEPRECATION: Python 2.7 reached the end of its life on January 1st, 2020. Please upgrade your Python as Python 2.7 is no longer maintained. pip 21.0 will drop support for Python 2.7 in January 2021. More details about Python 2 support in pip can be found at https://pip.pypa.io/en/latest/development/release-process/#python-2-support pip 21.0 will remove support for this functionality.\u001b[0m\n",
      "Requirement already satisfied: sagemaker in /home/ec2-user/anaconda3/envs/amazonei_mxnet_p27/lib/python2.7/site-packages (2.86.2)\n",
      "Requirement already satisfied: boto3 in /home/ec2-user/anaconda3/envs/amazonei_mxnet_p27/lib/python2.7/site-packages (1.17.112)\n",
      "Requirement already satisfied: pandas in /home/ec2-user/anaconda3/envs/amazonei_mxnet_p27/lib/python2.7/site-packages (from sagemaker) (0.24.2)\n",
      "Requirement already satisfied: packaging>=20.0 in /home/ec2-user/anaconda3/envs/amazonei_mxnet_p27/lib/python2.7/site-packages (from sagemaker) (20.9)\n",
      "Requirement already satisfied: google-pasta in /home/ec2-user/anaconda3/envs/amazonei_mxnet_p27/lib/python2.7/site-packages (from sagemaker) (0.2.0)\n",
      "Requirement already satisfied: protobuf>=3.1 in /home/ec2-user/anaconda3/envs/amazonei_mxnet_p27/lib/python2.7/site-packages (from sagemaker) (3.11.2)\n",
      "Requirement already satisfied: attrs==20.3.0 in /home/ec2-user/anaconda3/envs/amazonei_mxnet_p27/lib/python2.7/site-packages (from sagemaker) (20.3.0)\n",
      "Requirement already satisfied: importlib-metadata>=1.4.0 in /home/ec2-user/anaconda3/envs/amazonei_mxnet_p27/lib/python2.7/site-packages (from sagemaker) (2.1.2)\n",
      "Requirement already satisfied: smdebug-rulesconfig==1.0.1 in /home/ec2-user/anaconda3/envs/amazonei_mxnet_p27/lib/python2.7/site-packages (from sagemaker) (1.0.1)\n",
      "Requirement already satisfied: numpy>=1.9.0 in /home/ec2-user/anaconda3/envs/amazonei_mxnet_p27/lib/python2.7/site-packages (from sagemaker) (1.16.5)\n",
      "Requirement already satisfied: pathos in /home/ec2-user/anaconda3/envs/amazonei_mxnet_p27/lib/python2.7/site-packages (from sagemaker) (0.2.8)\n",
      "Requirement already satisfied: protobuf3-to-dict>=0.1.5 in /home/ec2-user/anaconda3/envs/amazonei_mxnet_p27/lib/python2.7/site-packages (from sagemaker) (0.1.5)\n",
      "Requirement already satisfied: s3transfer<0.5.0,>=0.4.0 in /home/ec2-user/anaconda3/envs/amazonei_mxnet_p27/lib/python2.7/site-packages (from boto3) (0.4.2)\n",
      "Requirement already satisfied: jmespath<1.0.0,>=0.7.1 in /home/ec2-user/anaconda3/envs/amazonei_mxnet_p27/lib/python2.7/site-packages (from boto3) (0.10.0)\n",
      "Requirement already satisfied: botocore<1.21.0,>=1.20.112 in /home/ec2-user/anaconda3/envs/amazonei_mxnet_p27/lib/python2.7/site-packages (from boto3) (1.20.112)\n",
      "Requirement already satisfied: python-dateutil>=2.5.0 in /home/ec2-user/anaconda3/envs/amazonei_mxnet_p27/lib/python2.7/site-packages (from pandas->sagemaker) (2.8.0)\n",
      "Requirement already satisfied: pytz>=2011k in /home/ec2-user/anaconda3/envs/amazonei_mxnet_p27/lib/python2.7/site-packages (from pandas->sagemaker) (2019.3)\n",
      "Requirement already satisfied: pyparsing>=2.0.2 in /home/ec2-user/anaconda3/envs/amazonei_mxnet_p27/lib/python2.7/site-packages (from packaging>=20.0->sagemaker) (2.4.2)\n",
      "Requirement already satisfied: six in /home/ec2-user/anaconda3/envs/amazonei_mxnet_p27/lib/python2.7/site-packages (from google-pasta->sagemaker) (1.12.0)\n",
      "Requirement already satisfied: setuptools in /home/ec2-user/anaconda3/envs/amazonei_mxnet_p27/lib/python2.7/site-packages (from protobuf>=3.1->sagemaker) (41.4.0)\n",
      "Requirement already satisfied: pathlib2; python_version < \"3\" in /home/ec2-user/anaconda3/envs/amazonei_mxnet_p27/lib/python2.7/site-packages (from importlib-metadata>=1.4.0->sagemaker) (2.3.5)\n",
      "Requirement already satisfied: contextlib2; python_version < \"3\" in /home/ec2-user/anaconda3/envs/amazonei_mxnet_p27/lib/python2.7/site-packages (from importlib-metadata>=1.4.0->sagemaker) (0.6.0)\n",
      "Requirement already satisfied: zipp>=0.5 in /home/ec2-user/anaconda3/envs/amazonei_mxnet_p27/lib/python2.7/site-packages (from importlib-metadata>=1.4.0->sagemaker) (0.6.0)\n",
      "Requirement already satisfied: configparser>=3.5; python_version < \"3\" in /home/ec2-user/anaconda3/envs/amazonei_mxnet_p27/lib/python2.7/site-packages (from importlib-metadata>=1.4.0->sagemaker) (4.0.2)\n",
      "Requirement already satisfied: ppft>=1.6.6.4 in /home/ec2-user/anaconda3/envs/amazonei_mxnet_p27/lib/python2.7/site-packages (from pathos->sagemaker) (1.6.6.4)\n",
      "Requirement already satisfied: multiprocess>=0.70.12 in /home/ec2-user/anaconda3/envs/amazonei_mxnet_p27/lib/python2.7/site-packages (from pathos->sagemaker) (0.70.12.2)\n",
      "Requirement already satisfied: pox>=0.3.0 in /home/ec2-user/anaconda3/envs/amazonei_mxnet_p27/lib/python2.7/site-packages (from pathos->sagemaker) (0.3.0)\n",
      "Requirement already satisfied: dill>=0.3.4 in /home/ec2-user/anaconda3/envs/amazonei_mxnet_p27/lib/python2.7/site-packages (from pathos->sagemaker) (0.3.4)\n",
      "Requirement already satisfied: futures<4.0.0,>=2.2.0; python_version == \"2.7\" in /home/ec2-user/anaconda3/envs/amazonei_mxnet_p27/lib/python2.7/site-packages (from s3transfer<0.5.0,>=0.4.0->boto3) (3.3.0)\n",
      "Requirement already satisfied: urllib3<1.27,>=1.25.4 in /home/ec2-user/anaconda3/envs/amazonei_mxnet_p27/lib/python2.7/site-packages (from botocore<1.21.0,>=1.20.112->boto3) (1.25.11)\n",
      "Requirement already satisfied: scandir; python_version < \"3.5\" in /home/ec2-user/anaconda3/envs/amazonei_mxnet_p27/lib/python2.7/site-packages (from pathlib2; python_version < \"3\"->importlib-metadata>=1.4.0->sagemaker) (1.10.0)\n",
      "Requirement already satisfied: more-itertools in /home/ec2-user/anaconda3/envs/amazonei_mxnet_p27/lib/python2.7/site-packages (from zipp>=0.5->importlib-metadata>=1.4.0->sagemaker) (5.0.0)\n"
     ]
    }
   ],
   "source": [
    "!pip install sagemaker boto3"
   ]
  },
  {
   "cell_type": "markdown",
   "metadata": {},
   "source": [
    "### Store command \n",
    "For saving checkpoint through our notebook. In this way, if we ever terminate the kernel, but then later need to pick back up in the notebook, some of our variables will be stored for us already.\n",
    "For example, using these commands, we will not need to fit our estimator again."
   ]
  },
  {
   "cell_type": "code",
   "execution_count": 3,
   "metadata": {},
   "outputs": [
    {
     "name": "stdout",
     "output_type": "stream",
     "text": [
      "Stored variables and their in-db values:\n"
     ]
    }
   ],
   "source": [
    "%store -r\n",
    "%store"
   ]
  },
  {
   "cell_type": "code",
   "execution_count": 33,
   "metadata": {},
   "outputs": [],
   "source": [
    "import boto3\n",
    "import sagemaker\n",
    "import sagemaker.amazon.common as smac\n",
    "from sagemaker.lineage import context, artifact, association, action\n",
    "from sagemaker.workflow.pipeline import Pipeline\n",
    "from sagemaker.workflow.steps import CreateModelStep, ProcessingStep, TrainingStep\n",
    "from sagemaker.workflow.step_collections import RegisterModel\n",
    "from sagemaker.sklearn.processing import SKLearnProcessor\n",
    "from sagemaker.workflow.parameters import ParameterInteger, ParameterFloat, ParameterString\n",
    "\n",
    "from model_package_src.inference_specification import InferenceSpecification\n",
    "import io\n",
    "import json\n",
    "import numpy as np\n",
    "import pandas as pd\n",
    "import matplotlib.pyplot as plt\n",
    "import seaborn as sns\n",
    "import datetime\n",
    "import time\n",
    "\n",
    "from scipy.sparse import csr_matrix, hstack, save_npz\n",
    "from sklearn.preprocessing import OneHotEncoder\n",
    "from sklearn.feature_extraction.text import TfidfVectorizer\n",
    "from sklearn.model_selection import train_test_split"
   ]
  },
  {
   "cell_type": "code",
   "execution_count": 5,
   "metadata": {},
   "outputs": [],
   "source": [
    "assert sagemaker.__version__ >= \"2.21.0\""
   ]
  },
  {
   "cell_type": "markdown",
   "metadata": {},
   "source": [
    "### Configure our SageMaker clent and session"
   ]
  },
  {
   "cell_type": "code",
   "execution_count": 6,
   "metadata": {},
   "outputs": [
    {
     "name": "stdout",
     "output_type": "stream",
     "text": [
      "using bucketsagemaker-us-east-1-267710284436 in region us-east-1 \n",
      "\n"
     ]
    }
   ],
   "source": [
    "region = boto3.Session().region_name\n",
    "boto3.setup_default_session(region_name=region)\n",
    "boto_session = boto3.Session(region_name=region)\n",
    "\n",
    "s3_client = boto3.client(\"s3\", region_name=region)\n",
    "\n",
    "sagemaker_boto_client = boto_session.client(\"sagemaker\")\n",
    "sagemaker_session = sagemaker.session.Session(\n",
    "    boto_session=boto_session, sagemaker_client=sagemaker_boto_client\n",
    ")\n",
    "sagemaker_role = sagemaker.get_execution_role()\n",
    "\n",
    "bucket = sagemaker_session.default_bucket()\n",
    "print(f\"using bucket{bucket} in region {region} \\n\")"
   ]
  },
  {
   "cell_type": "markdown",
   "metadata": {},
   "source": [
    "## Read the data"
   ]
  },
  {
   "cell_type": "code",
   "execution_count": 7,
   "metadata": {},
   "outputs": [
    {
     "name": "stdout",
     "output_type": "stream",
     "text": [
      "(541909, 8)\n"
     ]
    },
    {
     "data": {
      "text/html": [
       "<div>\n",
       "<style scoped>\n",
       "    .dataframe tbody tr th:only-of-type {\n",
       "        vertical-align: middle;\n",
       "    }\n",
       "\n",
       "    .dataframe tbody tr th {\n",
       "        vertical-align: top;\n",
       "    }\n",
       "\n",
       "    .dataframe thead th {\n",
       "        text-align: right;\n",
       "    }\n",
       "</style>\n",
       "<table border=\"1\" class=\"dataframe\">\n",
       "  <thead>\n",
       "    <tr style=\"text-align: right;\">\n",
       "      <th></th>\n",
       "      <th>InvoiceNo</th>\n",
       "      <th>StockCode</th>\n",
       "      <th>Description</th>\n",
       "      <th>Quantity</th>\n",
       "      <th>InvoiceDate</th>\n",
       "      <th>UnitPrice</th>\n",
       "      <th>CustomerID</th>\n",
       "      <th>Country</th>\n",
       "    </tr>\n",
       "  </thead>\n",
       "  <tbody>\n",
       "    <tr>\n",
       "      <th>0</th>\n",
       "      <td>536365</td>\n",
       "      <td>85123A</td>\n",
       "      <td>WHITE HANGING HEART T-LIGHT HOLDER</td>\n",
       "      <td>6</td>\n",
       "      <td>2010-12-01 08:26:00</td>\n",
       "      <td>2.55</td>\n",
       "      <td>17850.0</td>\n",
       "      <td>United Kingdom</td>\n",
       "    </tr>\n",
       "    <tr>\n",
       "      <th>1</th>\n",
       "      <td>536365</td>\n",
       "      <td>71053</td>\n",
       "      <td>WHITE METAL LANTERN</td>\n",
       "      <td>6</td>\n",
       "      <td>2010-12-01 08:26:00</td>\n",
       "      <td>3.39</td>\n",
       "      <td>17850.0</td>\n",
       "      <td>United Kingdom</td>\n",
       "    </tr>\n",
       "    <tr>\n",
       "      <th>2</th>\n",
       "      <td>536365</td>\n",
       "      <td>84406B</td>\n",
       "      <td>CREAM CUPID HEARTS COAT HANGER</td>\n",
       "      <td>8</td>\n",
       "      <td>2010-12-01 08:26:00</td>\n",
       "      <td>2.75</td>\n",
       "      <td>17850.0</td>\n",
       "      <td>United Kingdom</td>\n",
       "    </tr>\n",
       "    <tr>\n",
       "      <th>3</th>\n",
       "      <td>536365</td>\n",
       "      <td>84029G</td>\n",
       "      <td>KNITTED UNION FLAG HOT WATER BOTTLE</td>\n",
       "      <td>6</td>\n",
       "      <td>2010-12-01 08:26:00</td>\n",
       "      <td>3.39</td>\n",
       "      <td>17850.0</td>\n",
       "      <td>United Kingdom</td>\n",
       "    </tr>\n",
       "    <tr>\n",
       "      <th>4</th>\n",
       "      <td>536365</td>\n",
       "      <td>84029E</td>\n",
       "      <td>RED WOOLLY HOTTIE WHITE HEART.</td>\n",
       "      <td>6</td>\n",
       "      <td>2010-12-01 08:26:00</td>\n",
       "      <td>3.39</td>\n",
       "      <td>17850.0</td>\n",
       "      <td>United Kingdom</td>\n",
       "    </tr>\n",
       "  </tbody>\n",
       "</table>\n",
       "</div>"
      ],
      "text/plain": [
       "  InvoiceNo StockCode                          Description  Quantity  \\\n",
       "0    536365    85123A   WHITE HANGING HEART T-LIGHT HOLDER         6   \n",
       "1    536365     71053                  WHITE METAL LANTERN         6   \n",
       "2    536365    84406B       CREAM CUPID HEARTS COAT HANGER         8   \n",
       "3    536365    84029G  KNITTED UNION FLAG HOT WATER BOTTLE         6   \n",
       "4    536365    84029E       RED WOOLLY HOTTIE WHITE HEART.         6   \n",
       "\n",
       "           InvoiceDate  UnitPrice  CustomerID         Country  \n",
       "0  2010-12-01 08:26:00       2.55     17850.0  United Kingdom  \n",
       "1  2010-12-01 08:26:00       3.39     17850.0  United Kingdom  \n",
       "2  2010-12-01 08:26:00       2.75     17850.0  United Kingdom  \n",
       "3  2010-12-01 08:26:00       3.39     17850.0  United Kingdom  \n",
       "4  2010-12-01 08:26:00       3.39     17850.0  United Kingdom  "
      ]
     },
     "execution_count": 7,
     "metadata": {},
     "output_type": "execute_result"
    }
   ],
   "source": [
    "df = pd.read_csv(\"data/Online Retail.csv\")\n",
    "print(df.shape)\n",
    "df.head()"
   ]
  },
  {
   "cell_type": "markdown",
   "metadata": {},
   "source": [
    "## Data Preprocessing\n",
    "\n",
    "First, we check for any null (i.e. missing) values."
   ]
  },
  {
   "cell_type": "code",
   "execution_count": 8,
   "metadata": {},
   "outputs": [
    {
     "data": {
      "text/plain": [
       "InvoiceNo           0\n",
       "StockCode           0\n",
       "Description      1454\n",
       "Quantity            0\n",
       "InvoiceDate         0\n",
       "UnitPrice           0\n",
       "CustomerID     135080\n",
       "Country             0\n",
       "dtype: int64"
      ]
     },
     "execution_count": 8,
     "metadata": {},
     "output_type": "execute_result"
    }
   ],
   "source": [
    "df.isna().sum()"
   ]
  },
  {
   "cell_type": "markdown",
   "metadata": {},
   "source": [
    "Drop any records with a missing CustomerID. If we do not know who the customer is, then it is not helpful to us when we make recommendations."
   ]
  },
  {
   "cell_type": "code",
   "execution_count": 9,
   "metadata": {},
   "outputs": [
    {
     "name": "stdout",
     "output_type": "stream",
     "text": [
      "(406829, 8)\n"
     ]
    }
   ],
   "source": [
    "df.dropna(subset=[\"CustomerID\"], inplace=True)\n",
    "df[\"Description\"] = df[\"Description\"].apply(lambda x: x.strip())\n",
    "print(df.shape)"
   ]
  },
  {
   "cell_type": "markdown",
   "metadata": {},
   "source": [
    "Check if there's is any negative value for UnitPrice. But it still has some extreme outliers.\n",
    "We're not gonna do anything to handle that because items with high prices are relatively normal."
   ]
  },
  {
   "cell_type": "code",
   "execution_count": 10,
   "metadata": {},
   "outputs": [
    {
     "name": "stderr",
     "output_type": "stream",
     "text": [
      "/home/ec2-user/anaconda3/envs/python3/lib/python3.6/site-packages/seaborn/distributions.py:2557: FutureWarning: `distplot` is a deprecated function and will be removed in a future version. Please adapt your code to use either `displot` (a figure-level function with similar flexibility) or `histplot` (an axes-level function for histograms).\n",
      "  warnings.warn(msg, FutureWarning)\n"
     ]
    },
    {
     "data": {
      "image/png": "[encoded data removed]",
      "text/plain": [
       "<Figure size 720x360 with 1 Axes>"
      ]
     },
     "metadata": {
      "needs_background": "light"
     },
     "output_type": "display_data"
    }
   ],
   "source": [
    "plt.figure(figsize=(10, 5))\n",
    "sns.distplot(df[\"UnitPrice\"], kde=True)\n",
    "plt.title(\"Distribution of Unit Prices\")\n",
    "plt.xlabel(\"Price\");"
   ]
  },
  {
   "cell_type": "markdown",
   "metadata": {},
   "source": [
    "We can see a large spike around zero, meaning small quantity, but we do also see vary large negative and large postive quantities as well. These negative quantites might not make intuitive sense, but it turns out that that's how cancellations or return are handled. In this case, it looks like someone placed a very large order of 80,000 units, and then that was subsequently cancelled by 80,000 negative quantity.\n",
    "We should handle with the extreme case, so let's aggregate the data over the year and take the sum of the quantity. Therefore any transaction that are associated with a cancellation or a refund will go away. Also, we can make sure that our final quantities are greater than zero."
   ]
  },
  {
   "cell_type": "code",
   "execution_count": 12,
   "metadata": {},
   "outputs": [
    {
     "name": "stderr",
     "output_type": "stream",
     "text": [
      "/home/ec2-user/anaconda3/envs/python3/lib/python3.6/site-packages/seaborn/distributions.py:2557: FutureWarning: `distplot` is a deprecated function and will be removed in a future version. Please adapt your code to use either `displot` (a figure-level function with similar flexibility) or `histplot` (an axes-level function for histograms).\n",
      "  warnings.warn(msg, FutureWarning)\n"
     ]
    },
    {
     "data": {
      "image/png": "[encoded data removed]",
      "text/plain": [
       "<Figure size 720x360 with 1 Axes>"
      ]
     },
     "metadata": {
      "needs_background": "light"
     },
     "output_type": "display_data"
    }
   ],
   "source": [
    "plt.figure(figsize=(10, 5))\n",
    "sns.distplot(df[\"Quantity\"], kde=True)\n",
    "plt.title(\"Distribution of Quantity\")\n",
    "plt.xlabel(\"Quantity\");"
   ]
  },
  {
   "cell_type": "markdown",
   "metadata": {},
   "source": [
    "Most of our quantities are realteively small (positive) numbers, but there are also some negative quantities as well as extreme outliers (both postiive and negative outliers). "
   ]
  },
  {
   "cell_type": "markdown",
   "metadata": {},
   "source": [
    "There are no negative prices, which is good, but we can see some extreme outliers."
   ]
  },
  {
   "cell_type": "code",
   "execution_count": 13,
   "metadata": {},
   "outputs": [
    {
     "data": {
      "text/plain": [
       "(274399, 6)"
      ]
     },
     "execution_count": 13,
     "metadata": {},
     "output_type": "execute_result"
    }
   ],
   "source": [
    "df = df.groupby([\"StockCode\", \"Description\", \"CustomerID\", \"Country\", \"UnitPrice\"])[\"Quantity\"].sum()\n",
    "df = df.loc[df > 0].reset_index()\n",
    "df.shape"
   ]
  },
  {
   "cell_type": "markdown",
   "metadata": {},
   "source": [
    "Now, we still have some categorical features, and we will need to handle them before training a model.\n",
    "Handling these categorical columns will create many additional columns, resulting in sparse data.\n",
    "Using sparse matrices can allow us to store all the data without running into memory error.\n",
    "\n",
    "Since the description column is text-based, we can apply text featurization to it. The method that we will use is TD-IDF, which stands for Term Frequency-Inverse Document Frequency. TD-IDF measures how relavant that term is to the description compared to how relavant it is for all descriptions. \n",
    "For example, if we have a descroption of the product \"White Metal Lantern\". The output of our text featurization will give us a column for each of those words and the values we weighted based off how frequent those words are in other description.\n",
    "\n",
    "For the \"StockCode\", \"CustomerID\", \"Country\", we will one-hot encode those. These will leave us with very sparse data since most users only buy a small subset of all products. Factorization Machines handles sparse data very well, and it designs for users and products to be one-hot encoded this way."
   ]
  },
  {
   "cell_type": "code",
   "execution_count": 15,
   "metadata": {},
   "outputs": [],
   "source": [
    "def loadDataset(dataframe):\n",
    "    enc = OneHotEncoder(handle_unknown=\"ignore\")\n",
    "    onehot_cols = [\"StockCode\", \"CustomerID\", \"Country\"]\n",
    "    ohe_output = enc.fit_transform(dataframe[onehot_cols])\n",
    "\n",
    "    vectorizer = TfidfVectorizer(min_df=2)\n",
    "    unique_descriptions = dataframe[\"Description\"].unique()\n",
    "    vectorizer.fit(unique_descriptions)\n",
    "    tfidf_output = vectorizer.transform(dataframe[\"Description\"])\n",
    "\n",
    "    row = range(len(dataframe))\n",
    "    col = [0] * len(dataframe)\n",
    "    unit_price = csr_matrix((dataframe[\"UnitPrice\"].values, (row, col)), dtype=\"float32\")\n",
    "\n",
    "    X = hstack([ohe_output, tfidf_output, unit_price], format=\"csr\", dtype=\"float32\")\n",
    "\n",
    "    y = dataframe[\"Quantity\"].values.astype(\"float32\")\n",
    "\n",
    "    return X, y"
   ]
  },
  {
   "cell_type": "code",
   "execution_count": 16,
   "metadata": {},
   "outputs": [],
   "source": [
    "X, y = loadDataset(df)"
   ]
  },
  {
   "cell_type": "code",
   "execution_count": 17,
   "metadata": {},
   "outputs": [
    {
     "data": {
      "text/plain": [
       "0.9991284988048746"
      ]
     },
     "execution_count": 17,
     "metadata": {},
     "output_type": "execute_result"
    }
   ],
   "source": [
    "# display sparsity\n",
    "total_cells = X.shape[0] * X.shape[1]\n",
    "(total_cells - X.nnz) / total_cells"
   ]
  },
  {
   "cell_type": "markdown",
   "metadata": {},
   "source": [
    "Our data is over 99.9% sparse. Because of this high sparsity, the sparse matrix data type allows us to represent our data using only a small fraction of the memory that a dense matrix would require.\n",
    "\n",
    "In the end, we left a sparse matrix where the rows are each product that the user brought. And our columns are all of our features. Don't worry, Factorization Machines will handle high-sparse data very well. "
   ]
  },
  {
   "cell_type": "markdown",
   "metadata": {},
   "source": [
    "## Prepare Data For Modeling\n",
    "\n",
    "+ Split the data into training and testing sets\n",
    "+ Write the data to protobuf recordIO format for Pipe mode. [Read more](https://docs.aws.amazon.com/sagemaker/latest/dg/cdf-training.html) about protobuf recordIO format. Using this is because Factorization Machines take the protobuf  recordIO format as an input. Using this format allow you to take advantage of pipe mode. In pipe mode, your training data streams data directly from s3. Streaming data can provide faster start times for training jobs and better throughput.\n"
   ]
  },
  {
   "cell_type": "code",
   "execution_count": 19,
   "metadata": {},
   "outputs": [
    {
     "data": {
      "text/plain": [
       "((219519, 9284), (54880, 9284), (219519,), (54880,))"
      ]
     },
     "execution_count": 19,
     "metadata": {},
     "output_type": "execute_result"
    }
   ],
   "source": [
    "X_train, X_test, y_train, y_test = train_test_split(X, y, test_size=0.2, random_state=42)\n",
    "\n",
    "X_train.shape, X_test.shape, y_train.shape, y_test.shape"
   ]
  },
  {
   "cell_type": "markdown",
   "metadata": {},
   "source": [
    "Save numpy arrays to local storage in /data folder\n"
   ]
  },
  {
   "cell_type": "code",
   "execution_count": 17,
   "metadata": {},
   "outputs": [],
   "source": [
    "# df.to_csv(\"data/online_retail_preprocessed.csv\", index=False)\n",
    "# save_npz(\"data/X_train.npz\", X_train)\n",
    "# save_npz(\"data/X_test.npz\", X_test)\n",
    "# np.savez(\"data/y_train.npz\", y_train)\n",
    "# np.savez(\"data/y_test.npz\", y_test)"
   ]
  },
  {
   "cell_type": "code",
   "execution_count": 20,
   "metadata": {},
   "outputs": [],
   "source": [
    "prefix = \"personalization\"\n",
    "\n",
    "train_key = \"train.protobuf\"\n",
    "train_prefix = f\"{prefix}/train\"\n",
    "\n",
    "test_key = \"test.protobuf\"\n",
    "test_prefix = f\"{prefix}/test\"\n",
    "\n",
    "output_prefix = f\"s3://{bucket}/{prefix}/output\""
   ]
  },
  {
   "cell_type": "code",
   "execution_count": 21,
   "metadata": {},
   "outputs": [
    {
     "name": "stdout",
     "output_type": "stream",
     "text": [
      "s3://sagemaker-us-east-1-267710284436/personalization/train/train.protobuf\n",
      "s3://sagemaker-us-east-1-267710284436/personalization/test/test.protobuf\n",
      "Output: s3://sagemaker-us-east-1-267710284436/personalization/output\n"
     ]
    }
   ],
   "source": [
    "def writeDatasetToProtobuf(X, y, bucket, prefix, key):\n",
    "    buf = io.BytesIO()\n",
    "    smac.write_spmatrix_to_sparse_tensor(buf, X, y)\n",
    "    buf.seek(0)\n",
    "    obj = \"{}/{}\".format(prefix, key)\n",
    "    boto3.resource(\"s3\").Bucket(bucket).Object(obj).upload_fileobj(buf)\n",
    "    return \"s3://{}/{}\".format(bucket, obj)\n",
    "\n",
    "\n",
    "train_data_location = writeDatasetToProtobuf(X_train, y_train, bucket, train_prefix, train_key)\n",
    "test_data_location = writeDatasetToProtobuf(X_test, y_test, bucket, test_prefix, test_key)\n",
    "\n",
    "print(train_data_location)\n",
    "print(test_data_location)\n",
    "print(\"Output: {}\".format(output_prefix))"
   ]
  },
  {
   "cell_type": "code",
   "execution_count": 22,
   "metadata": {},
   "outputs": [],
   "source": [
    "# %store train_data_location\n",
    "# %store test_data_location"
   ]
  },
  {
   "cell_type": "markdown",
   "metadata": {},
   "source": [
    "## Train the factorization machine model\n",
    "\n",
    "Once we have the data preprocessed and available in the correct format for training, the next step is to actually train the model using the data. \n",
    "\n",
    "We'll use the Amazon SageMaker Python SDK to kick off training and monitor status until it is completed. In this example that takes only a few minutes. Despite the model only need 1-2 minutes to train, there is some extra time required upfront to provision hardware and load the algorithm container.\n",
    "\n",
    "First, let's specify our containers. To find the rigth container, we'll create a small lookup. More details on algorithm containers can be found in [AWS documentation.](https://docs-aws.amazon.com/sagemaker/latest/dg/sagemaker-algo-docker-registry-paths.html)"
   ]
  },
  {
   "cell_type": "code",
   "execution_count": 24,
   "metadata": {},
   "outputs": [],
   "source": [
    "container = sagemaker.image_uris.retrieve(\"factorization-machines\", region=boto_session.region_name)\n",
    "\n",
    "fm = sagemaker.estimator.Estimator(\n",
    "    container,\n",
    "    sagemaker_role,\n",
    "    instance_count=1,\n",
    "    instance_type=\"ml.c5.xlarge\",\n",
    "    output_path=output_prefix,\n",
    "    sagemaker_session=sagemaker_session,\n",
    ")\n",
    "\n",
    "fm.set_hyperparameters(\n",
    "    feature_dim=X_train.shape[1],\n",
    "    predictor_type=\"regressor\",\n",
    "    mini_batch_size=1000,\n",
    "    num_factors=64,\n",
    "    epochs=20,\n",
    ")"
   ]
  },
  {
   "cell_type": "code",
   "execution_count": 25,
   "metadata": {},
   "outputs": [
    {
     "name": "stdout",
     "output_type": "stream",
     "text": [
      "2022-04-15 19:41:57 Starting - Starting the training job...\n",
      "2022-04-15 19:42:22 Starting - Preparing the instances for trainingProfilerReport-1650051717: InProgress\n",
      "......\n",
      "2022-04-15 19:43:25 Downloading - Downloading input data...\n",
      "2022-04-15 19:43:42 Training - Downloading the training image.....\u001b[34mDocker entrypoint called with argument(s): train\u001b[0m\n",
      "\u001b[34mRunning default environment configuration script\u001b[0m\n",
      "\u001b[34m/opt/amazon/lib/python3.7/site-packages/jsonref.py:8: DeprecationWarning: Using or importing the ABCs from 'collections' instead of from 'collections.abc' is deprecated since Python 3.3,and in 3.9 it will stop working\n",
      "  from collections import Mapping, MutableMapping, Sequence\u001b[0m\n",
      "\u001b[34m/opt/amazon/lib/python3.7/site-packages/algorithm/network_builder.py:87: DeprecationWarning: invalid escape sequence \\s\n",
      "  \"\"\"\u001b[0m\n",
      "\u001b[34m/opt/amazon/lib/python3.7/site-packages/algorithm/network_builder.py:120: DeprecationWarning: invalid escape sequence \\s\n",
      "  \"\"\"\u001b[0m\n",
      "\u001b[34m[04/15/2022 19:44:42 INFO 139933643601728 integration.py:636] worker started\u001b[0m\n",
      "\u001b[34m[04/15/2022 19:44:42 INFO 139933643601728] Reading default configuration from /opt/amazon/lib/python3.7/site-packages/algorithm/resources/default-conf.json: {'epochs': 1, 'mini_batch_size': '1000', 'use_bias': 'true', 'use_linear': 'true', 'bias_lr': '0.1', 'linear_lr': '0.001', 'factors_lr': '0.0001', 'bias_wd': '0.01', 'linear_wd': '0.001', 'factors_wd': '0.00001', 'bias_init_method': 'normal', 'bias_init_sigma': '0.01', 'linear_init_method': 'normal', 'linear_init_sigma': '0.01', 'factors_init_method': 'normal', 'factors_init_sigma': '0.001', 'batch_metrics_publish_interval': '500', '_data_format': 'record', '_kvstore': 'auto', '_learning_rate': '1.0', '_log_level': 'info', '_num_gpus': 'auto', '_num_kv_servers': 'auto', '_optimizer': 'adam', '_tuning_objective_metric': '', '_use_full_symbolic': 'true', '_wd': '1.0'}\u001b[0m\n",
      "\u001b[34m[04/15/2022 19:44:42 INFO 139933643601728] Merging with provided configuration from /opt/ml/input/config/hyperparameters.json: {'epochs': '20', 'feature_dim': '9284', 'mini_batch_size': '1000', 'num_factors': '64', 'predictor_type': 'regressor'}\u001b[0m\n",
      "\u001b[34m[04/15/2022 19:44:42 INFO 139933643601728] Final configuration: {'epochs': '20', 'mini_batch_size': '1000', 'use_bias': 'true', 'use_linear': 'true', 'bias_lr': '0.1', 'linear_lr': '0.001', 'factors_lr': '0.0001', 'bias_wd': '0.01', 'linear_wd': '0.001', 'factors_wd': '0.00001', 'bias_init_method': 'normal', 'bias_init_sigma': '0.01', 'linear_init_method': 'normal', 'linear_init_sigma': '0.01', 'factors_init_method': 'normal', 'factors_init_sigma': '0.001', 'batch_metrics_publish_interval': '500', '_data_format': 'record', '_kvstore': 'auto', '_learning_rate': '1.0', '_log_level': 'info', '_num_gpus': 'auto', '_num_kv_servers': 'auto', '_optimizer': 'adam', '_tuning_objective_metric': '', '_use_full_symbolic': 'true', '_wd': '1.0', 'feature_dim': '9284', 'num_factors': '64', 'predictor_type': 'regressor'}\u001b[0m\n",
      "\u001b[34m[04/15/2022 19:44:42 WARNING 139933643601728] Loggers have already been setup.\u001b[0m\n",
      "\u001b[34mProcess 1 is a worker.\u001b[0m\n",
      "\u001b[34m[04/15/2022 19:44:42 INFO 139933643601728] Using default worker.\u001b[0m\n",
      "\u001b[34m[04/15/2022 19:44:42 INFO 139933643601728] Checkpoint loading and saving are disabled.\u001b[0m\n",
      "\u001b[34m[2022-04-15 19:44:42.131] [tensorio] [warning] TensorIO is already initialized; ignoring the initialization routine.\u001b[0m\n",
      "\u001b[34m[2022-04-15 19:44:42.138] [tensorio] [info] epoch_stats={\"data_pipeline\": \"/opt/ml/input/data/train\", \"epoch\": 0, \"duration\": 19, \"num_examples\": 1, \"num_bytes\": 99840}\u001b[0m\n",
      "\u001b[34m[04/15/2022 19:44:42 INFO 139933643601728] nvidia-smi: took 0.037 seconds to run.\u001b[0m\n",
      "\u001b[34m[04/15/2022 19:44:42 INFO 139933643601728] nvidia-smi identified 0 GPUs.\u001b[0m\n",
      "\u001b[34m[04/15/2022 19:44:42 INFO 139933643601728] Number of GPUs being used: 0\u001b[0m\n",
      "\u001b[34m[04/15/2022 19:44:42 INFO 139933643601728] [Sparse network] Building a sparse network.\u001b[0m\n",
      "\u001b[34m[04/15/2022 19:44:42 INFO 139933643601728] Create Store: local\u001b[0m\n",
      "\u001b[34m#metrics {\"StartTime\": 1650051882.1181216, \"EndTime\": 1650051882.182475, \"Dimensions\": {\"Algorithm\": \"factorization-machines\", \"Host\": \"algo-1\", \"Operation\": \"training\"}, \"Metrics\": {\"initialize.time\": {\"sum\": 46.02336883544922, \"count\": 1, \"min\": 46.02336883544922, \"max\": 46.02336883544922}}}\u001b[0m\n",
      "\u001b[34m#metrics {\"StartTime\": 1650051882.1826186, \"EndTime\": 1650051882.1830163, \"Dimensions\": {\"Algorithm\": \"factorization-machines\", \"Host\": \"algo-1\", \"Operation\": \"training\", \"Meta\": \"init_train_data_iter\"}, \"Metrics\": {\"Total Records Seen\": {\"sum\": 1000.0, \"count\": 1, \"min\": 1000, \"max\": 1000}, \"Total Batches Seen\": {\"sum\": 1.0, \"count\": 1, \"min\": 1, \"max\": 1}, \"Max Records Seen Between Resets\": {\"sum\": 1000.0, \"count\": 1, \"min\": 1000, \"max\": 1000}, \"Max Batches Seen Between Resets\": {\"sum\": 1.0, \"count\": 1, \"min\": 1, \"max\": 1}, \"Reset Count\": {\"sum\": 1.0, \"count\": 1, \"min\": 1, \"max\": 1}, \"Number of Records Since Last Reset\": {\"sum\": 0.0, \"count\": 1, \"min\": 0, \"max\": 0}, \"Number of Batches Since Last Reset\": {\"sum\": 0.0, \"count\": 1, \"min\": 0, \"max\": 0}}}\u001b[0m\n",
      "\u001b[34m[19:44:42] /opt/brazil-pkg-cache/packages/AIAlgorithmsMXNet/AIAlgorithmsMXNet-1.1.x.206339.0/AL2_x86_64/generic-flavor/src/src/kvstore/./kvstore_local.h:280: Warning: non-default weights detected during kvstore pull. This call has been ignored. Please make sure to use row_sparse_pull with row_ids.\u001b[0m\n",
      "\u001b[34m[19:44:42] /opt/brazil-pkg-cache/packages/AIAlgorithmsMXNet/AIAlgorithmsMXNet-1.1.x.206339.0/AL2_x86_64/generic-flavor/src/src/kvstore/./kvstore_local.h:280: Warning: non-default weights detected during kvstore pull. This call has been ignored. Please make sure to use row_sparse_pull with row_ids.\u001b[0m\n",
      "\u001b[34m[04/15/2022 19:44:42 INFO 139933643601728] #quality_metric: host=algo-1, epoch=0, batch=0 train rmse <loss>=72.22661905419636\u001b[0m\n",
      "\u001b[34m[04/15/2022 19:44:42 INFO 139933643601728] #quality_metric: host=algo-1, epoch=0, batch=0 train mse <loss>=5216.6845\u001b[0m\n",
      "\u001b[34m[04/15/2022 19:44:42 INFO 139933643601728] #quality_metric: host=algo-1, epoch=0, batch=0 train absolute_loss <loss>=17.63289453125\u001b[0m\n",
      "\n",
      "2022-04-15 19:44:42 Training - Training image download completed. Training in progress.\u001b[34m[2022-04-15 19:44:45.269] [tensorio] [info] epoch_stats={\"data_pipeline\": \"/opt/ml/input/data/train\", \"epoch\": 2, \"duration\": 3038, \"num_examples\": 220, \"num_bytes\": 21856132}\u001b[0m\n",
      "\u001b[34m[04/15/2022 19:44:45 INFO 139933643601728] #quality_metric: host=algo-1, epoch=0, train rmse <loss>=91.21242742344528\u001b[0m\n",
      "\u001b[34m[04/15/2022 19:44:45 INFO 139933643601728] #quality_metric: host=algo-1, epoch=0, train mse <loss>=8319.706916477273\u001b[0m\n",
      "\u001b[34m[04/15/2022 19:44:45 INFO 139933643601728] #quality_metric: host=algo-1, epoch=0, train absolute_loss <loss>=16.162756942471592\u001b[0m\n",
      "\u001b[34m#metrics {\"StartTime\": 1650051882.182559, \"EndTime\": 1650051885.2701182, \"Dimensions\": {\"Algorithm\": \"factorization-machines\", \"Host\": \"algo-1\", \"Operation\": \"training\"}, \"Metrics\": {\"epochs\": {\"sum\": 20.0, \"count\": 1, \"min\": 20, \"max\": 20}, \"update.time\": {\"sum\": 3086.7276191711426, \"count\": 1, \"min\": 3086.7276191711426, \"max\": 3086.7276191711426}}}\u001b[0m\n",
      "\u001b[34m[04/15/2022 19:44:45 INFO 139933643601728] #progress_metric: host=algo-1, completed 5.0 % of epochs\u001b[0m\n",
      "\u001b[34m#metrics {\"StartTime\": 1650051882.1833622, \"EndTime\": 1650051885.270404, \"Dimensions\": {\"Algorithm\": \"factorization-machines\", \"Host\": \"algo-1\", \"Operation\": \"training\", \"epoch\": 0, \"Meta\": \"training_data_iter\"}, \"Metrics\": {\"Total Records Seen\": {\"sum\": 220519.0, \"count\": 1, \"min\": 220519, \"max\": 220519}, \"Total Batches Seen\": {\"sum\": 221.0, \"count\": 1, \"min\": 221, \"max\": 221}, \"Max Records Seen Between Resets\": {\"sum\": 219519.0, \"count\": 1, \"min\": 219519, \"max\": 219519}, \"Max Batches Seen Between Resets\": {\"sum\": 220.0, \"count\": 1, \"min\": 220, \"max\": 220}, \"Reset Count\": {\"sum\": 2.0, \"count\": 1, \"min\": 2, \"max\": 2}, \"Number of Records Since Last Reset\": {\"sum\": 219519.0, \"count\": 1, \"min\": 219519, \"max\": 219519}, \"Number of Batches Since Last Reset\": {\"sum\": 220.0, \"count\": 1, \"min\": 220, \"max\": 220}}}\u001b[0m\n",
      "\u001b[34m[04/15/2022 19:44:45 INFO 139933643601728] #throughput_metric: host=algo-1, train throughput=71106.58841891633 records/second\u001b[0m\n",
      "\u001b[34m[04/15/2022 19:44:45 INFO 139933643601728] #quality_metric: host=algo-1, epoch=1, batch=0 train rmse <loss>=70.0600956322499\u001b[0m\n",
      "\u001b[34m[04/15/2022 19:44:45 INFO 139933643601728] #quality_metric: host=algo-1, epoch=1, batch=0 train mse <loss>=4908.417\u001b[0m\n",
      "\u001b[34m[04/15/2022 19:44:45 INFO 139933643601728] #quality_metric: host=algo-1, epoch=1, batch=0 train absolute_loss <loss>=17.41325390625\u001b[0m\n",
      "\u001b[34m[2022-04-15 19:44:48.069] [tensorio] [info] epoch_stats={\"data_pipeline\": \"/opt/ml/input/data/train\", \"epoch\": 4, \"duration\": 2797, \"num_examples\": 220, \"num_bytes\": 21856132}\u001b[0m\n",
      "\u001b[34m[04/15/2022 19:44:48 INFO 139933643601728] #quality_metric: host=algo-1, epoch=1, train rmse <loss>=90.60802512809579\u001b[0m\n",
      "\u001b[34m[04/15/2022 19:44:48 INFO 139933643601728] #quality_metric: host=algo-1, epoch=1, train mse <loss>=8209.814217613637\u001b[0m\n",
      "\u001b[34m[04/15/2022 19:44:48 INFO 139933643601728] #quality_metric: host=algo-1, epoch=1, train absolute_loss <loss>=18.42056477716619\u001b[0m\n",
      "\u001b[34m#metrics {\"StartTime\": 1650051885.270198, \"EndTime\": 1650051888.0700104, \"Dimensions\": {\"Algorithm\": \"factorization-machines\", \"Host\": \"algo-1\", \"Operation\": \"training\"}, \"Metrics\": {\"update.time\": {\"sum\": 2799.302816390991, \"count\": 1, \"min\": 2799.302816390991, \"max\": 2799.302816390991}}}\u001b[0m\n",
      "\u001b[34m[04/15/2022 19:44:48 INFO 139933643601728] #progress_metric: host=algo-1, completed 10.0 % of epochs\u001b[0m\n",
      "\u001b[34m#metrics {\"StartTime\": 1650051885.2706811, \"EndTime\": 1650051888.070244, \"Dimensions\": {\"Algorithm\": \"factorization-machines\", \"Host\": \"algo-1\", \"Operation\": \"training\", \"epoch\": 1, \"Meta\": \"training_data_iter\"}, \"Metrics\": {\"Total Records Seen\": {\"sum\": 440038.0, \"count\": 1, \"min\": 440038, \"max\": 440038}, \"Total Batches Seen\": {\"sum\": 441.0, \"count\": 1, \"min\": 441, \"max\": 441}, \"Max Records Seen Between Resets\": {\"sum\": 219519.0, \"count\": 1, \"min\": 219519, \"max\": 219519}, \"Max Batches Seen Between Resets\": {\"sum\": 220.0, \"count\": 1, \"min\": 220, \"max\": 220}, \"Reset Count\": {\"sum\": 3.0, \"count\": 1, \"min\": 3, \"max\": 3}, \"Number of Records Since Last Reset\": {\"sum\": 219519.0, \"count\": 1, \"min\": 219519, \"max\": 219519}, \"Number of Batches Since Last Reset\": {\"sum\": 220.0, \"count\": 1, \"min\": 220, \"max\": 220}}}\u001b[0m\n",
      "\u001b[34m[04/15/2022 19:44:48 INFO 139933643601728] #throughput_metric: host=algo-1, train throughput=78408.4036761781 records/second\u001b[0m\n",
      "\u001b[34m[04/15/2022 19:44:48 INFO 139933643601728] #quality_metric: host=algo-1, epoch=2, batch=0 train rmse <loss>=69.8893983376592\u001b[0m\n",
      "\u001b[34m[04/15/2022 19:44:48 INFO 139933643601728] #quality_metric: host=algo-1, epoch=2, batch=0 train mse <loss>=4884.528\u001b[0m\n",
      "\u001b[34m[04/15/2022 19:44:48 INFO 139933643601728] #quality_metric: host=algo-1, epoch=2, batch=0 train absolute_loss <loss>=18.55230078125\u001b[0m\n",
      "\u001b[34m[2022-04-15 19:44:50.846] [tensorio] [info] epoch_stats={\"data_pipeline\": \"/opt/ml/input/data/train\", \"epoch\": 6, \"duration\": 2774, \"num_examples\": 220, \"num_bytes\": 21856132}\u001b[0m\n",
      "\u001b[34m[04/15/2022 19:44:50 INFO 139933643601728] #quality_metric: host=algo-1, epoch=2, train rmse <loss>=90.47375148602242\u001b[0m\n",
      "\u001b[34m[04/15/2022 19:44:50 INFO 139933643601728] #quality_metric: host=algo-1, epoch=2, train mse <loss>=8185.499707954546\u001b[0m\n",
      "\u001b[34m[04/15/2022 19:44:50 INFO 139933643601728] #quality_metric: host=algo-1, epoch=2, train absolute_loss <loss>=18.580566246448864\u001b[0m\n",
      "\u001b[34m#metrics {\"StartTime\": 1650051888.07008, \"EndTime\": 1650051890.847076, \"Dimensions\": {\"Algorithm\": \"factorization-machines\", \"Host\": \"algo-1\", \"Operation\": \"training\"}, \"Metrics\": {\"update.time\": {\"sum\": 2776.5417098999023, \"count\": 1, \"min\": 2776.5417098999023, \"max\": 2776.5417098999023}}}\u001b[0m\n",
      "\u001b[34m[04/15/2022 19:44:50 INFO 139933643601728] #progress_metric: host=algo-1, completed 15.0 % of epochs\u001b[0m\n",
      "\u001b[34m#metrics {\"StartTime\": 1650051888.0705123, \"EndTime\": 1650051890.8472264, \"Dimensions\": {\"Algorithm\": \"factorization-machines\", \"Host\": \"algo-1\", \"Operation\": \"training\", \"epoch\": 2, \"Meta\": \"training_data_iter\"}, \"Metrics\": {\"Total Records Seen\": {\"sum\": 659557.0, \"count\": 1, \"min\": 659557, \"max\": 659557}, \"Total Batches Seen\": {\"sum\": 661.0, \"count\": 1, \"min\": 661, \"max\": 661}, \"Max Records Seen Between Resets\": {\"sum\": 219519.0, \"count\": 1, \"min\": 219519, \"max\": 219519}, \"Max Batches Seen Between Resets\": {\"sum\": 220.0, \"count\": 1, \"min\": 220, \"max\": 220}, \"Reset Count\": {\"sum\": 4.0, \"count\": 1, \"min\": 4, \"max\": 4}, \"Number of Records Since Last Reset\": {\"sum\": 219519.0, \"count\": 1, \"min\": 219519, \"max\": 219519}, \"Number of Batches Since Last Reset\": {\"sum\": 220.0, \"count\": 1, \"min\": 220, \"max\": 220}}}\u001b[0m\n",
      "\u001b[34m[04/15/2022 19:44:50 INFO 139933643601728] #throughput_metric: host=algo-1, train throughput=79054.62208564622 records/second\u001b[0m\n",
      "\u001b[34m[04/15/2022 19:44:50 INFO 139933643601728] #quality_metric: host=algo-1, epoch=3, batch=0 train rmse <loss>=69.72750533326142\u001b[0m\n",
      "\u001b[34m[04/15/2022 19:44:50 INFO 139933643601728] #quality_metric: host=algo-1, epoch=3, batch=0 train mse <loss>=4861.925\u001b[0m\n",
      "\u001b[34m[04/15/2022 19:44:50 INFO 139933643601728] #quality_metric: host=algo-1, epoch=3, batch=0 train absolute_loss <loss>=18.33094140625\u001b[0m\n",
      "\u001b[34m[2022-04-15 19:44:53.640] [tensorio] [info] epoch_stats={\"data_pipeline\": \"/opt/ml/input/data/train\", \"epoch\": 8, \"duration\": 2792, \"num_examples\": 220, \"num_bytes\": 21856132}\u001b[0m\n",
      "\u001b[34m[04/15/2022 19:44:53 INFO 139933643601728] #quality_metric: host=algo-1, epoch=3, train rmse <loss>=90.33190701046739\u001b[0m\n",
      "\u001b[34m[04/15/2022 19:44:53 INFO 139933643601728] #quality_metric: host=algo-1, epoch=3, train mse <loss>=8159.853424147727\u001b[0m\n",
      "\u001b[34m[04/15/2022 19:44:53 INFO 139933643601728] #quality_metric: host=algo-1, epoch=3, train absolute_loss <loss>=18.27153690962358\u001b[0m\n",
      "\u001b[34m#metrics {\"StartTime\": 1650051890.84713, \"EndTime\": 1650051893.6413207, \"Dimensions\": {\"Algorithm\": \"factorization-machines\", \"Host\": \"algo-1\", \"Operation\": \"training\"}, \"Metrics\": {\"update.time\": {\"sum\": 2793.912410736084, \"count\": 1, \"min\": 2793.912410736084, \"max\": 2793.912410736084}}}\u001b[0m\n",
      "\u001b[34m[04/15/2022 19:44:53 INFO 139933643601728] #progress_metric: host=algo-1, completed 20.0 % of epochs\u001b[0m\n",
      "\u001b[34m#metrics {\"StartTime\": 1650051890.8473883, \"EndTime\": 1650051893.6414692, \"Dimensions\": {\"Algorithm\": \"factorization-machines\", \"Host\": \"algo-1\", \"Operation\": \"training\", \"epoch\": 3, \"Meta\": \"training_data_iter\"}, \"Metrics\": {\"Total Records Seen\": {\"sum\": 879076.0, \"count\": 1, \"min\": 879076, \"max\": 879076}, \"Total Batches Seen\": {\"sum\": 881.0, \"count\": 1, \"min\": 881, \"max\": 881}, \"Max Records Seen Between Resets\": {\"sum\": 219519.0, \"count\": 1, \"min\": 219519, \"max\": 219519}, \"Max Batches Seen Between Resets\": {\"sum\": 220.0, \"count\": 1, \"min\": 220, \"max\": 220}, \"Reset Count\": {\"sum\": 5.0, \"count\": 1, \"min\": 5, \"max\": 5}, \"Number of Records Since Last Reset\": {\"sum\": 219519.0, \"count\": 1, \"min\": 219519, \"max\": 219519}, \"Number of Batches Since Last Reset\": {\"sum\": 220.0, \"count\": 1, \"min\": 220, \"max\": 220}}}\u001b[0m\n",
      "\u001b[34m[04/15/2022 19:44:53 INFO 139933643601728] #throughput_metric: host=algo-1, train throughput=78563.43325448799 records/second\u001b[0m\n",
      "\u001b[34m[04/15/2022 19:44:53 INFO 139933643601728] #quality_metric: host=algo-1, epoch=4, batch=0 train rmse <loss>=69.57381332081778\u001b[0m\n",
      "\u001b[34m[04/15/2022 19:44:53 INFO 139933643601728] #quality_metric: host=algo-1, epoch=4, batch=0 train mse <loss>=4840.5155\u001b[0m\n",
      "\u001b[34m[04/15/2022 19:44:53 INFO 139933643601728] #quality_metric: host=algo-1, epoch=4, batch=0 train absolute_loss <loss>=18.07842578125\u001b[0m\n",
      "\u001b[34m[2022-04-15 19:44:56.421] [tensorio] [info] epoch_stats={\"data_pipeline\": \"/opt/ml/input/data/train\", \"epoch\": 10, \"duration\": 2778, \"num_examples\": 220, \"num_bytes\": 21856132}\u001b[0m\n",
      "\u001b[34m[04/15/2022 19:44:56 INFO 139933643601728] #quality_metric: host=algo-1, epoch=4, train rmse <loss>=90.2005097842629\u001b[0m\n",
      "\u001b[34m[04/15/2022 19:44:56 INFO 139933643601728] #quality_metric: host=algo-1, epoch=4, train mse <loss>=8136.131965340909\u001b[0m\n",
      "\u001b[34m[04/15/2022 19:44:56 INFO 139933643601728] #quality_metric: host=algo-1, epoch=4, train absolute_loss <loss>=18.01931514115767\u001b[0m\n",
      "\u001b[34m#metrics {\"StartTime\": 1650051893.6413755, \"EndTime\": 1650051896.4223206, \"Dimensions\": {\"Algorithm\": \"factorization-machines\", \"Host\": \"algo-1\", \"Operation\": \"training\"}, \"Metrics\": {\"update.time\": {\"sum\": 2780.3685665130615, \"count\": 1, \"min\": 2780.3685665130615, \"max\": 2780.3685665130615}}}\u001b[0m\n",
      "\u001b[34m[04/15/2022 19:44:56 INFO 139933643601728] #progress_metric: host=algo-1, completed 25.0 % of epochs\u001b[0m\n",
      "\u001b[34m#metrics {\"StartTime\": 1650051893.6419284, \"EndTime\": 1650051896.4225104, \"Dimensions\": {\"Algorithm\": \"factorization-machines\", \"Host\": \"algo-1\", \"Operation\": \"training\", \"epoch\": 4, \"Meta\": \"training_data_iter\"}, \"Metrics\": {\"Total Records Seen\": {\"sum\": 1098595.0, \"count\": 1, \"min\": 1098595, \"max\": 1098595}, \"Total Batches Seen\": {\"sum\": 1101.0, \"count\": 1, \"min\": 1101, \"max\": 1101}, \"Max Records Seen Between Resets\": {\"sum\": 219519.0, \"count\": 1, \"min\": 219519, \"max\": 219519}, \"Max Batches Seen Between Resets\": {\"sum\": 220.0, \"count\": 1, \"min\": 220, \"max\": 220}, \"Reset Count\": {\"sum\": 6.0, \"count\": 1, \"min\": 6, \"max\": 6}, \"Number of Records Since Last Reset\": {\"sum\": 219519.0, \"count\": 1, \"min\": 219519, \"max\": 219519}, \"Number of Batches Since Last Reset\": {\"sum\": 220.0, \"count\": 1, \"min\": 220, \"max\": 220}}}\u001b[0m\n",
      "\u001b[34m[04/15/2022 19:44:56 INFO 139933643601728] #throughput_metric: host=algo-1, train throughput=78944.67196874622 records/second\u001b[0m\n",
      "\u001b[34m[04/15/2022 19:44:56 INFO 139933643601728] #quality_metric: host=algo-1, epoch=5, batch=0 train rmse <loss>=69.4391388195447\u001b[0m\n",
      "\u001b[34m[04/15/2022 19:44:56 INFO 139933643601728] #quality_metric: host=algo-1, epoch=5, batch=0 train mse <loss>=4821.794\u001b[0m\n",
      "\u001b[34m[04/15/2022 19:44:56 INFO 139933643601728] #quality_metric: host=algo-1, epoch=5, batch=0 train absolute_loss <loss>=17.880751953125\u001b[0m\n",
      "\u001b[34m[2022-04-15 19:44:59.154] [tensorio] [info] epoch_stats={\"data_pipeline\": \"/opt/ml/input/data/train\", \"epoch\": 12, \"duration\": 2730, \"num_examples\": 220, \"num_bytes\": 21856132}\u001b[0m\n",
      "\u001b[34m[04/15/2022 19:44:59 INFO 139933643601728] #quality_metric: host=algo-1, epoch=5, train rmse <loss>=90.08360983045266\u001b[0m\n",
      "\u001b[34m[04/15/2022 19:44:59 INFO 139933643601728] #quality_metric: host=algo-1, epoch=5, train mse <loss>=8115.056760085227\u001b[0m\n",
      "\u001b[34m[04/15/2022 19:44:59 INFO 139933643601728] #quality_metric: host=algo-1, epoch=5, train absolute_loss <loss>=17.845939994673294\u001b[0m\n",
      "\u001b[34m#metrics {\"StartTime\": 1650051896.4223738, \"EndTime\": 1650051899.1549852, \"Dimensions\": {\"Algorithm\": \"factorization-machines\", \"Host\": \"algo-1\", \"Operation\": \"training\"}, \"Metrics\": {\"update.time\": {\"sum\": 2732.28120803833, \"count\": 1, \"min\": 2732.28120803833, \"max\": 2732.28120803833}}}\u001b[0m\n",
      "\u001b[34m[04/15/2022 19:44:59 INFO 139933643601728] #progress_metric: host=algo-1, completed 30.0 % of epochs\u001b[0m\n",
      "\u001b[34m#metrics {\"StartTime\": 1650051896.422678, \"EndTime\": 1650051899.155242, \"Dimensions\": {\"Algorithm\": \"factorization-machines\", \"Host\": \"algo-1\", \"Operation\": \"training\", \"epoch\": 5, \"Meta\": \"training_data_iter\"}, \"Metrics\": {\"Total Records Seen\": {\"sum\": 1318114.0, \"count\": 1, \"min\": 1318114, \"max\": 1318114}, \"Total Batches Seen\": {\"sum\": 1321.0, \"count\": 1, \"min\": 1321, \"max\": 1321}, \"Max Records Seen Between Resets\": {\"sum\": 219519.0, \"count\": 1, \"min\": 219519, \"max\": 219519}, \"Max Batches Seen Between Resets\": {\"sum\": 220.0, \"count\": 1, \"min\": 220, \"max\": 220}, \"Reset Count\": {\"sum\": 7.0, \"count\": 1, \"min\": 7, \"max\": 7}, \"Number of Records Since Last Reset\": {\"sum\": 219519.0, \"count\": 1, \"min\": 219519, \"max\": 219519}, \"Number of Batches Since Last Reset\": {\"sum\": 220.0, \"count\": 1, \"min\": 220, \"max\": 220}}}\u001b[0m\n",
      "\u001b[34m[04/15/2022 19:44:59 INFO 139933643601728] #throughput_metric: host=algo-1, train throughput=80331.21014931076 records/second\u001b[0m\n",
      "\u001b[34m[04/15/2022 19:44:59 INFO 139933643601728] #quality_metric: host=algo-1, epoch=6, batch=0 train rmse <loss>=69.32097085298214\u001b[0m\n",
      "\u001b[34m[04/15/2022 19:44:59 INFO 139933643601728] #quality_metric: host=algo-1, epoch=6, batch=0 train mse <loss>=4805.397\u001b[0m\n",
      "\u001b[34m[04/15/2022 19:44:59 INFO 139933643601728] #quality_metric: host=algo-1, epoch=6, batch=0 train absolute_loss <loss>=17.763322265625\u001b[0m\n",
      "\u001b[34m[2022-04-15 19:45:02.102] [tensorio] [info] epoch_stats={\"data_pipeline\": \"/opt/ml/input/data/train\", \"epoch\": 14, \"duration\": 2945, \"num_examples\": 220, \"num_bytes\": 21856132}\u001b[0m\n",
      "\u001b[34m[04/15/2022 19:45:02 INFO 139933643601728] #quality_metric: host=algo-1, epoch=6, train rmse <loss>=89.97837475042141\u001b[0m\n",
      "\u001b[34m[04/15/2022 19:45:02 INFO 139933643601728] #quality_metric: host=algo-1, epoch=6, train mse <loss>=8096.107922727273\u001b[0m\n",
      "\u001b[34m[04/15/2022 19:45:02 INFO 139933643601728] #quality_metric: host=algo-1, epoch=6, train absolute_loss <loss>=17.719223974609374\u001b[0m\n",
      "\u001b[34m#metrics {\"StartTime\": 1650051899.155073, \"EndTime\": 1650051902.1028895, \"Dimensions\": {\"Algorithm\": \"factorization-machines\", \"Host\": \"algo-1\", \"Operation\": \"training\"}, \"Metrics\": {\"update.time\": {\"sum\": 2947.3726749420166, \"count\": 1, \"min\": 2947.3726749420166, \"max\": 2947.3726749420166}}}\u001b[0m\n",
      "\u001b[34m[04/15/2022 19:45:02 INFO 139933643601728] #progress_metric: host=algo-1, completed 35.0 % of epochs\u001b[0m\n",
      "\u001b[34m#metrics {\"StartTime\": 1650051899.1554804, \"EndTime\": 1650051902.103085, \"Dimensions\": {\"Algorithm\": \"factorization-machines\", \"Host\": \"algo-1\", \"Operation\": \"training\", \"epoch\": 6, \"Meta\": \"training_data_iter\"}, \"Metrics\": {\"Total Records Seen\": {\"sum\": 1537633.0, \"count\": 1, \"min\": 1537633, \"max\": 1537633}, \"Total Batches Seen\": {\"sum\": 1541.0, \"count\": 1, \"min\": 1541, \"max\": 1541}, \"Max Records Seen Between Resets\": {\"sum\": 219519.0, \"count\": 1, \"min\": 219519, \"max\": 219519}, \"Max Batches Seen Between Resets\": {\"sum\": 220.0, \"count\": 1, \"min\": 220, \"max\": 220}, \"Reset Count\": {\"sum\": 8.0, \"count\": 1, \"min\": 8, \"max\": 8}, \"Number of Records Since Last Reset\": {\"sum\": 219519.0, \"count\": 1, \"min\": 219519, \"max\": 219519}, \"Number of Batches Since Last Reset\": {\"sum\": 220.0, \"count\": 1, \"min\": 220, \"max\": 220}}}\u001b[0m\n",
      "\u001b[34m[04/15/2022 19:45:02 INFO 139933643601728] #throughput_metric: host=algo-1, train throughput=74471.10139425636 records/second\u001b[0m\n",
      "\u001b[34m[04/15/2022 19:45:02 INFO 139933643601728] #quality_metric: host=algo-1, epoch=7, batch=0 train rmse <loss>=69.21636367218376\u001b[0m\n",
      "\u001b[34m[04/15/2022 19:45:02 INFO 139933643601728] #quality_metric: host=algo-1, epoch=7, batch=0 train mse <loss>=4790.905\u001b[0m\n",
      "\u001b[34m[04/15/2022 19:45:02 INFO 139933643601728] #quality_metric: host=algo-1, epoch=7, batch=0 train absolute_loss <loss>=17.67858984375\u001b[0m\n",
      "\u001b[34m[2022-04-15 19:45:05.217] [tensorio] [info] epoch_stats={\"data_pipeline\": \"/opt/ml/input/data/train\", \"epoch\": 16, \"duration\": 3112, \"num_examples\": 220, \"num_bytes\": 21856132}\u001b[0m\n",
      "\u001b[34m[04/15/2022 19:45:05 INFO 139933643601728] #quality_metric: host=algo-1, epoch=7, train rmse <loss>=89.88232149183378\u001b[0m\n",
      "\u001b[34m[04/15/2022 19:45:05 INFO 139933643601728] #quality_metric: host=algo-1, epoch=7, train mse <loss>=8078.831716761364\u001b[0m\n",
      "\u001b[34m[04/15/2022 19:45:05 INFO 139933643601728] #quality_metric: host=algo-1, epoch=7, train absolute_loss <loss>=17.620570072798294\u001b[0m\n",
      "\u001b[34m#metrics {\"StartTime\": 1650051902.1029444, \"EndTime\": 1650051905.2179692, \"Dimensions\": {\"Algorithm\": \"factorization-machines\", \"Host\": \"algo-1\", \"Operation\": \"training\"}, \"Metrics\": {\"update.time\": {\"sum\": 3114.3672466278076, \"count\": 1, \"min\": 3114.3672466278076, \"max\": 3114.3672466278076}}}\u001b[0m\n",
      "\u001b[34m[04/15/2022 19:45:05 INFO 139933643601728] #progress_metric: host=algo-1, completed 40.0 % of epochs\u001b[0m\n",
      "\u001b[34m#metrics {\"StartTime\": 1650051902.1035779, \"EndTime\": 1650051905.2182167, \"Dimensions\": {\"Algorithm\": \"factorization-machines\", \"Host\": \"algo-1\", \"Operation\": \"training\", \"epoch\": 7, \"Meta\": \"training_data_iter\"}, \"Metrics\": {\"Total Records Seen\": {\"sum\": 1757152.0, \"count\": 1, \"min\": 1757152, \"max\": 1757152}, \"Total Batches Seen\": {\"sum\": 1761.0, \"count\": 1, \"min\": 1761, \"max\": 1761}, \"Max Records Seen Between Resets\": {\"sum\": 219519.0, \"count\": 1, \"min\": 219519, \"max\": 219519}, \"Max Batches Seen Between Resets\": {\"sum\": 220.0, \"count\": 1, \"min\": 220, \"max\": 220}, \"Reset Count\": {\"sum\": 9.0, \"count\": 1, \"min\": 9, \"max\": 9}, \"Number of Records Since Last Reset\": {\"sum\": 219519.0, \"count\": 1, \"min\": 219519, \"max\": 219519}, \"Number of Batches Since Last Reset\": {\"sum\": 220.0, \"count\": 1, \"min\": 220, \"max\": 220}}}\u001b[0m\n",
      "\u001b[34m[04/15/2022 19:45:05 INFO 139933643601728] #throughput_metric: host=algo-1, train throughput=70477.24743635434 records/second\u001b[0m\n",
      "\u001b[34m[04/15/2022 19:45:05 INFO 139933643601728] #quality_metric: host=algo-1, epoch=8, batch=0 train rmse <loss>=69.12171511182285\u001b[0m\n",
      "\u001b[34m[04/15/2022 19:45:05 INFO 139933643601728] #quality_metric: host=algo-1, epoch=8, batch=0 train mse <loss>=4777.8115\u001b[0m\n",
      "\u001b[34m[04/15/2022 19:45:05 INFO 139933643601728] #quality_metric: host=algo-1, epoch=8, batch=0 train absolute_loss <loss>=17.6106328125\u001b[0m\n",
      "\u001b[34m[2022-04-15 19:45:07.965] [tensorio] [info] epoch_stats={\"data_pipeline\": \"/opt/ml/input/data/train\", \"epoch\": 18, \"duration\": 2745, \"num_examples\": 220, \"num_bytes\": 21856132}\u001b[0m\n",
      "\u001b[34m[04/15/2022 19:45:07 INFO 139933643601728] #quality_metric: host=algo-1, epoch=8, train rmse <loss>=89.79394862019834\u001b[0m\n",
      "\u001b[34m[04/15/2022 19:45:07 INFO 139933643601728] #quality_metric: host=algo-1, epoch=8, train mse <loss>=8062.953208806818\u001b[0m\n",
      "\u001b[34m[04/15/2022 19:45:07 INFO 139933643601728] #quality_metric: host=algo-1, epoch=8, train absolute_loss <loss>=17.54735018643466\u001b[0m\n",
      "\u001b[34m#metrics {\"StartTime\": 1650051905.2180364, \"EndTime\": 1650051907.965789, \"Dimensions\": {\"Algorithm\": \"factorization-machines\", \"Host\": \"algo-1\", \"Operation\": \"training\"}, \"Metrics\": {\"update.time\": {\"sum\": 2747.2805976867676, \"count\": 1, \"min\": 2747.2805976867676, \"max\": 2747.2805976867676}}}\u001b[0m\n",
      "\u001b[34m[04/15/2022 19:45:07 INFO 139933643601728] #progress_metric: host=algo-1, completed 45.0 % of epochs\u001b[0m\n",
      "\u001b[34m#metrics {\"StartTime\": 1650051905.2184813, \"EndTime\": 1650051907.9659934, \"Dimensions\": {\"Algorithm\": \"factorization-machines\", \"Host\": \"algo-1\", \"Operation\": \"training\", \"epoch\": 8, \"Meta\": \"training_data_iter\"}, \"Metrics\": {\"Total Records Seen\": {\"sum\": 1976671.0, \"count\": 1, \"min\": 1976671, \"max\": 1976671}, \"Total Batches Seen\": {\"sum\": 1981.0, \"count\": 1, \"min\": 1981, \"max\": 1981}, \"Max Records Seen Between Resets\": {\"sum\": 219519.0, \"count\": 1, \"min\": 219519, \"max\": 219519}, \"Max Batches Seen Between Resets\": {\"sum\": 220.0, \"count\": 1, \"min\": 220, \"max\": 220}, \"Reset Count\": {\"sum\": 10.0, \"count\": 1, \"min\": 10, \"max\": 10}, \"Number of Records Since Last Reset\": {\"sum\": 219519.0, \"count\": 1, \"min\": 219519, \"max\": 219519}, \"Number of Batches Since Last Reset\": {\"sum\": 220.0, \"count\": 1, \"min\": 220, \"max\": 220}}}\u001b[0m\n",
      "\u001b[34m[04/15/2022 19:45:07 INFO 139933643601728] #throughput_metric: host=algo-1, train throughput=79894.00388723495 records/second\u001b[0m\n",
      "\u001b[34m[04/15/2022 19:45:07 INFO 139933643601728] #quality_metric: host=algo-1, epoch=9, batch=0 train rmse <loss>=69.03420166844838\u001b[0m\n",
      "\u001b[34m[04/15/2022 19:45:07 INFO 139933643601728] #quality_metric: host=algo-1, epoch=9, batch=0 train mse <loss>=4765.721\u001b[0m\n",
      "\u001b[34m[04/15/2022 19:45:07 INFO 139933643601728] #quality_metric: host=algo-1, epoch=9, batch=0 train absolute_loss <loss>=17.550154296875\u001b[0m\n",
      "\u001b[34m[2022-04-15 19:45:10.775] [tensorio] [info] epoch_stats={\"data_pipeline\": \"/opt/ml/input/data/train\", \"epoch\": 20, \"duration\": 2807, \"num_examples\": 220, \"num_bytes\": 21856132}\u001b[0m\n",
      "\u001b[34m[04/15/2022 19:45:10 INFO 139933643601728] #quality_metric: host=algo-1, epoch=9, train rmse <loss>=89.71251026638066\u001b[0m\n",
      "\u001b[34m[04/15/2022 19:45:10 INFO 139933643601728] #quality_metric: host=algo-1, epoch=9, train mse <loss>=8048.334498295455\u001b[0m\n",
      "\u001b[34m[04/15/2022 19:45:10 INFO 139933643601728] #quality_metric: host=algo-1, epoch=9, train absolute_loss <loss>=17.494896257990057\u001b[0m\n",
      "\u001b[34m#metrics {\"StartTime\": 1650051907.9658604, \"EndTime\": 1650051910.7771637, \"Dimensions\": {\"Algorithm\": \"factorization-machines\", \"Host\": \"algo-1\", \"Operation\": \"training\"}, \"Metrics\": {\"update.time\": {\"sum\": 2810.9116554260254, \"count\": 1, \"min\": 2810.9116554260254, \"max\": 2810.9116554260254}}}\u001b[0m\n",
      "\u001b[34m[04/15/2022 19:45:10 INFO 139933643601728] #progress_metric: host=algo-1, completed 50.0 % of epochs\u001b[0m\n",
      "\u001b[34m#metrics {\"StartTime\": 1650051907.9662254, \"EndTime\": 1650051910.777388, \"Dimensions\": {\"Algorithm\": \"factorization-machines\", \"Host\": \"algo-1\", \"Operation\": \"training\", \"epoch\": 9, \"Meta\": \"training_data_iter\"}, \"Metrics\": {\"Total Records Seen\": {\"sum\": 2196190.0, \"count\": 1, \"min\": 2196190, \"max\": 2196190}, \"Total Batches Seen\": {\"sum\": 2201.0, \"count\": 1, \"min\": 2201, \"max\": 2201}, \"Max Records Seen Between Resets\": {\"sum\": 219519.0, \"count\": 1, \"min\": 219519, \"max\": 219519}, \"Max Batches Seen Between Resets\": {\"sum\": 220.0, \"count\": 1, \"min\": 220, \"max\": 220}, \"Reset Count\": {\"sum\": 11.0, \"count\": 1, \"min\": 11, \"max\": 11}, \"Number of Records Since Last Reset\": {\"sum\": 219519.0, \"count\": 1, \"min\": 219519, \"max\": 219519}, \"Number of Batches Since Last Reset\": {\"sum\": 220.0, \"count\": 1, \"min\": 220, \"max\": 220}}}\u001b[0m\n",
      "\u001b[34m[04/15/2022 19:45:10 INFO 139933643601728] #throughput_metric: host=algo-1, train throughput=78085.79968354508 records/second\u001b[0m\n",
      "\u001b[34m[04/15/2022 19:45:10 INFO 139933643601728] #quality_metric: host=algo-1, epoch=10, batch=0 train rmse <loss>=68.95210294109962\u001b[0m\n",
      "\u001b[34m[04/15/2022 19:45:10 INFO 139933643601728] #quality_metric: host=algo-1, epoch=10, batch=0 train mse <loss>=4754.3925\u001b[0m\n",
      "\u001b[34m[04/15/2022 19:45:10 INFO 139933643601728] #quality_metric: host=algo-1, epoch=10, batch=0 train absolute_loss <loss>=17.490455078125\u001b[0m\n",
      "\u001b[34m[2022-04-15 19:45:13.596] [tensorio] [info] epoch_stats={\"data_pipeline\": \"/opt/ml/input/data/train\", \"epoch\": 22, \"duration\": 2816, \"num_examples\": 220, \"num_bytes\": 21856132}\u001b[0m\n",
      "\u001b[34m[04/15/2022 19:45:13 INFO 139933643601728] #quality_metric: host=algo-1, epoch=10, train rmse <loss>=89.63715438616323\u001b[0m\n",
      "\u001b[34m[04/15/2022 19:45:13 INFO 139933643601728] #quality_metric: host=algo-1, epoch=10, train mse <loss>=8034.819446448863\u001b[0m\n",
      "\u001b[34m[04/15/2022 19:45:13 INFO 139933643601728] #quality_metric: host=algo-1, epoch=10, train absolute_loss <loss>=17.45398817471591\u001b[0m\n",
      "\u001b[34m#metrics {\"StartTime\": 1650051910.7772326, \"EndTime\": 1650051913.597043, \"Dimensions\": {\"Algorithm\": \"factorization-machines\", \"Host\": \"algo-1\", \"Operation\": \"training\"}, \"Metrics\": {\"update.time\": {\"sum\": 2818.7637329101562, \"count\": 1, \"min\": 2818.7637329101562, \"max\": 2818.7637329101562}}}\u001b[0m\n",
      "\u001b[34m[04/15/2022 19:45:13 INFO 139933643601728] #progress_metric: host=algo-1, completed 55.0 % of epochs\u001b[0m\n",
      "\u001b[34m#metrics {\"StartTime\": 1650051910.7782536, \"EndTime\": 1650051913.5972533, \"Dimensions\": {\"Algorithm\": \"factorization-machines\", \"Host\": \"algo-1\", \"Operation\": \"training\", \"epoch\": 10, \"Meta\": \"training_data_iter\"}, \"Metrics\": {\"Total Records Seen\": {\"sum\": 2415709.0, \"count\": 1, \"min\": 2415709, \"max\": 2415709}, \"Total Batches Seen\": {\"sum\": 2421.0, \"count\": 1, \"min\": 2421, \"max\": 2421}, \"Max Records Seen Between Resets\": {\"sum\": 219519.0, \"count\": 1, \"min\": 219519, \"max\": 219519}, \"Max Batches Seen Between Resets\": {\"sum\": 220.0, \"count\": 1, \"min\": 220, \"max\": 220}, \"Reset Count\": {\"sum\": 12.0, \"count\": 1, \"min\": 12, \"max\": 12}, \"Number of Records Since Last Reset\": {\"sum\": 219519.0, \"count\": 1, \"min\": 219519, \"max\": 219519}, \"Number of Batches Since Last Reset\": {\"sum\": 220.0, \"count\": 1, \"min\": 220, \"max\": 220}}}\u001b[0m\n",
      "\u001b[34m[04/15/2022 19:45:13 INFO 139933643601728] #throughput_metric: host=algo-1, train throughput=77867.93132618035 records/second\u001b[0m\n",
      "\u001b[34m[04/15/2022 19:45:13 INFO 139933643601728] #quality_metric: host=algo-1, epoch=11, batch=0 train rmse <loss>=68.87503901995265\u001b[0m\n",
      "\u001b[34m[04/15/2022 19:45:13 INFO 139933643601728] #quality_metric: host=algo-1, epoch=11, batch=0 train mse <loss>=4743.771\u001b[0m\n",
      "\u001b[34m[04/15/2022 19:45:13 INFO 139933643601728] #quality_metric: host=algo-1, epoch=11, batch=0 train absolute_loss <loss>=17.436017578125\u001b[0m\n",
      "\u001b[34m[2022-04-15 19:45:16.354] [tensorio] [info] epoch_stats={\"data_pipeline\": \"/opt/ml/input/data/train\", \"epoch\": 24, \"duration\": 2753, \"num_examples\": 220, \"num_bytes\": 21856132}\u001b[0m\n",
      "\u001b[34m[04/15/2022 19:45:16 INFO 139933643601728] #quality_metric: host=algo-1, epoch=11, train rmse <loss>=89.56761664950523\u001b[0m\n",
      "\u001b[34m[04/15/2022 19:45:16 INFO 139933643601728] #quality_metric: host=algo-1, epoch=11, train mse <loss>=8022.357952272727\u001b[0m\n",
      "\u001b[34m[04/15/2022 19:45:16 INFO 139933643601728] #quality_metric: host=algo-1, epoch=11, train absolute_loss <loss>=17.42097587890625\u001b[0m\n",
      "\u001b[34m#metrics {\"StartTime\": 1650051913.5971103, \"EndTime\": 1650051916.354993, \"Dimensions\": {\"Algorithm\": \"factorization-machines\", \"Host\": \"algo-1\", \"Operation\": \"training\"}, \"Metrics\": {\"update.time\": {\"sum\": 2756.376266479492, \"count\": 1, \"min\": 2756.376266479492, \"max\": 2756.376266479492}}}\u001b[0m\n",
      "\u001b[34m[04/15/2022 19:45:16 INFO 139933643601728] #progress_metric: host=algo-1, completed 60.0 % of epochs\u001b[0m\n",
      "\u001b[34m#metrics {\"StartTime\": 1650051913.5985887, \"EndTime\": 1650051916.3552954, \"Dimensions\": {\"Algorithm\": \"factorization-machines\", \"Host\": \"algo-1\", \"Operation\": \"training\", \"epoch\": 11, \"Meta\": \"training_data_iter\"}, \"Metrics\": {\"Total Records Seen\": {\"sum\": 2635228.0, \"count\": 1, \"min\": 2635228, \"max\": 2635228}, \"Total Batches Seen\": {\"sum\": 2641.0, \"count\": 1, \"min\": 2641, \"max\": 2641}, \"Max Records Seen Between Resets\": {\"sum\": 219519.0, \"count\": 1, \"min\": 219519, \"max\": 219519}, \"Max Batches Seen Between Resets\": {\"sum\": 220.0, \"count\": 1, \"min\": 220, \"max\": 220}, \"Reset Count\": {\"sum\": 13.0, \"count\": 1, \"min\": 13, \"max\": 13}, \"Number of Records Since Last Reset\": {\"sum\": 219519.0, \"count\": 1, \"min\": 219519, \"max\": 219519}, \"Number of Batches Since Last Reset\": {\"sum\": 220.0, \"count\": 1, \"min\": 220, \"max\": 220}}}\u001b[0m\n",
      "\u001b[34m[04/15/2022 19:45:16 INFO 139933643601728] #throughput_metric: host=algo-1, train throughput=79627.40888790606 records/second\u001b[0m\n",
      "\u001b[34m[04/15/2022 19:45:16 INFO 139933643601728] #quality_metric: host=algo-1, epoch=12, batch=0 train rmse <loss>=68.80243091635644\u001b[0m\n",
      "\u001b[34m[04/15/2022 19:45:16 INFO 139933643601728] #quality_metric: host=algo-1, epoch=12, batch=0 train mse <loss>=4733.7745\u001b[0m\n",
      "\u001b[34m[04/15/2022 19:45:16 INFO 139933643601728] #quality_metric: host=algo-1, epoch=12, batch=0 train absolute_loss <loss>=17.39027734375\u001b[0m\n",
      "\u001b[34m[2022-04-15 19:45:19.184] [tensorio] [info] epoch_stats={\"data_pipeline\": \"/opt/ml/input/data/train\", \"epoch\": 26, \"duration\": 2827, \"num_examples\": 220, \"num_bytes\": 21856132}\u001b[0m\n",
      "\u001b[34m[04/15/2022 19:45:19 INFO 139933643601728] #quality_metric: host=algo-1, epoch=12, train rmse <loss>=89.502190183175\u001b[0m\n",
      "\u001b[34m[04/15/2022 19:45:19 INFO 139933643601728] #quality_metric: host=algo-1, epoch=12, train mse <loss>=8010.642047585227\u001b[0m\n",
      "\u001b[34m[04/15/2022 19:45:19 INFO 139933643601728] #quality_metric: host=algo-1, epoch=12, train absolute_loss <loss>=17.38904547674006\u001b[0m\n",
      "\u001b[34m#metrics {\"StartTime\": 1650051916.3550828, \"EndTime\": 1650051919.184985, \"Dimensions\": {\"Algorithm\": \"factorization-machines\", \"Host\": \"algo-1\", \"Operation\": \"training\"}, \"Metrics\": {\"update.time\": {\"sum\": 2829.4336795806885, \"count\": 1, \"min\": 2829.4336795806885, \"max\": 2829.4336795806885}}}\u001b[0m\n",
      "\u001b[34m[04/15/2022 19:45:19 INFO 139933643601728] #progress_metric: host=algo-1, completed 65.0 % of epochs\u001b[0m\n",
      "\u001b[34m#metrics {\"StartTime\": 1650051916.3555262, \"EndTime\": 1650051919.1851323, \"Dimensions\": {\"Algorithm\": \"factorization-machines\", \"Host\": \"algo-1\", \"Operation\": \"training\", \"epoch\": 12, \"Meta\": \"training_data_iter\"}, \"Metrics\": {\"Total Records Seen\": {\"sum\": 2854747.0, \"count\": 1, \"min\": 2854747, \"max\": 2854747}, \"Total Batches Seen\": {\"sum\": 2861.0, \"count\": 1, \"min\": 2861, \"max\": 2861}, \"Max Records Seen Between Resets\": {\"sum\": 219519.0, \"count\": 1, \"min\": 219519, \"max\": 219519}, \"Max Batches Seen Between Resets\": {\"sum\": 220.0, \"count\": 1, \"min\": 220, \"max\": 220}, \"Reset Count\": {\"sum\": 14.0, \"count\": 1, \"min\": 14, \"max\": 14}, \"Number of Records Since Last Reset\": {\"sum\": 219519.0, \"count\": 1, \"min\": 219519, \"max\": 219519}, \"Number of Batches Since Last Reset\": {\"sum\": 220.0, \"count\": 1, \"min\": 220, \"max\": 220}}}\u001b[0m\n",
      "\u001b[34m[04/15/2022 19:45:19 INFO 139933643601728] #throughput_metric: host=algo-1, train throughput=77577.08885465095 records/second\u001b[0m\n",
      "\u001b[34m[04/15/2022 19:45:19 INFO 139933643601728] #quality_metric: host=algo-1, epoch=13, batch=0 train rmse <loss>=68.73474376179779\u001b[0m\n",
      "\u001b[34m[04/15/2022 19:45:19 INFO 139933643601728] #quality_metric: host=algo-1, epoch=13, batch=0 train mse <loss>=4724.465\u001b[0m\n",
      "\u001b[34m[04/15/2022 19:45:19 INFO 139933643601728] #quality_metric: host=algo-1, epoch=13, batch=0 train absolute_loss <loss>=17.34413671875\u001b[0m\n",
      "\u001b[34m[2022-04-15 19:45:21.947] [tensorio] [info] epoch_stats={\"data_pipeline\": \"/opt/ml/input/data/train\", \"epoch\": 28, \"duration\": 2760, \"num_examples\": 220, \"num_bytes\": 21856132}\u001b[0m\n",
      "\u001b[34m[04/15/2022 19:45:21 INFO 139933643601728] #quality_metric: host=algo-1, epoch=13, train rmse <loss>=89.44082671374765\u001b[0m\n",
      "\u001b[34m[04/15/2022 19:45:21 INFO 139933643601728] #quality_metric: host=algo-1, epoch=13, train mse <loss>=7999.661483238637\u001b[0m\n",
      "\u001b[34m[04/15/2022 19:45:21 INFO 139933643601728] #quality_metric: host=algo-1, epoch=13, train absolute_loss <loss>=17.362610808771308\u001b[0m\n",
      "\u001b[34m#metrics {\"StartTime\": 1650051919.1850379, \"EndTime\": 1650051921.9474938, \"Dimensions\": {\"Algorithm\": \"factorization-machines\", \"Host\": \"algo-1\", \"Operation\": \"training\"}, \"Metrics\": {\"update.time\": {\"sum\": 2762.1841430664062, \"count\": 1, \"min\": 2762.1841430664062, \"max\": 2762.1841430664062}}}\u001b[0m\n",
      "\u001b[34m[04/15/2022 19:45:21 INFO 139933643601728] #progress_metric: host=algo-1, completed 70.0 % of epochs\u001b[0m\n",
      "\u001b[34m#metrics {\"StartTime\": 1650051919.1852894, \"EndTime\": 1650051921.9476385, \"Dimensions\": {\"Algorithm\": \"factorization-machines\", \"Host\": \"algo-1\", \"Operation\": \"training\", \"epoch\": 13, \"Meta\": \"training_data_iter\"}, \"Metrics\": {\"Total Records Seen\": {\"sum\": 3074266.0, \"count\": 1, \"min\": 3074266, \"max\": 3074266}, \"Total Batches Seen\": {\"sum\": 3081.0, \"count\": 1, \"min\": 3081, \"max\": 3081}, \"Max Records Seen Between Resets\": {\"sum\": 219519.0, \"count\": 1, \"min\": 219519, \"max\": 219519}, \"Max Batches Seen Between Resets\": {\"sum\": 220.0, \"count\": 1, \"min\": 220, \"max\": 220}, \"Reset Count\": {\"sum\": 15.0, \"count\": 1, \"min\": 15, \"max\": 15}, \"Number of Records Since Last Reset\": {\"sum\": 219519.0, \"count\": 1, \"min\": 219519, \"max\": 219519}, \"Number of Batches Since Last Reset\": {\"sum\": 220.0, \"count\": 1, \"min\": 220, \"max\": 220}}}\u001b[0m\n",
      "\u001b[34m[04/15/2022 19:45:21 INFO 139933643601728] #throughput_metric: host=algo-1, train throughput=79466.00925908664 records/second\u001b[0m\n",
      "\u001b[34m[04/15/2022 19:45:21 INFO 139933643601728] #quality_metric: host=algo-1, epoch=14, batch=0 train rmse <loss>=68.67233795350207\u001b[0m\n",
      "\u001b[34m[04/15/2022 19:45:21 INFO 139933643601728] #quality_metric: host=algo-1, epoch=14, batch=0 train mse <loss>=4715.89\u001b[0m\n",
      "\u001b[34m[04/15/2022 19:45:21 INFO 139933643601728] #quality_metric: host=algo-1, epoch=14, batch=0 train absolute_loss <loss>=17.292935546875\u001b[0m\n",
      "\u001b[34m[2022-04-15 19:45:24.756] [tensorio] [info] epoch_stats={\"data_pipeline\": \"/opt/ml/input/data/train\", \"epoch\": 30, \"duration\": 2806, \"num_examples\": 220, \"num_bytes\": 21856132}\u001b[0m\n",
      "\u001b[34m[04/15/2022 19:45:24 INFO 139933643601728] #quality_metric: host=algo-1, epoch=14, train rmse <loss>=89.38316585868087\u001b[0m\n",
      "\u001b[34m[04/15/2022 19:45:24 INFO 139933643601728] #quality_metric: host=algo-1, epoch=14, train mse <loss>=7989.350338920454\u001b[0m\n",
      "\u001b[34m[04/15/2022 19:45:24 INFO 139933643601728] #quality_metric: host=algo-1, epoch=14, train absolute_loss <loss>=17.333876198508523\u001b[0m\n",
      "\u001b[34m#metrics {\"StartTime\": 1650051921.9475465, \"EndTime\": 1650051924.7566721, \"Dimensions\": {\"Algorithm\": \"factorization-machines\", \"Host\": \"algo-1\", \"Operation\": \"training\"}, \"Metrics\": {\"update.time\": {\"sum\": 2808.347702026367, \"count\": 1, \"min\": 2808.347702026367, \"max\": 2808.347702026367}}}\u001b[0m\n",
      "\u001b[34m[04/15/2022 19:45:24 INFO 139933643601728] #progress_metric: host=algo-1, completed 75.0 % of epochs\u001b[0m\n",
      "\u001b[34m#metrics {\"StartTime\": 1650051921.9483018, \"EndTime\": 1650051924.7568164, \"Dimensions\": {\"Algorithm\": \"factorization-machines\", \"Host\": \"algo-1\", \"Operation\": \"training\", \"epoch\": 14, \"Meta\": \"training_data_iter\"}, \"Metrics\": {\"Total Records Seen\": {\"sum\": 3293785.0, \"count\": 1, \"min\": 3293785, \"max\": 3293785}, \"Total Batches Seen\": {\"sum\": 3301.0, \"count\": 1, \"min\": 3301, \"max\": 3301}, \"Max Records Seen Between Resets\": {\"sum\": 219519.0, \"count\": 1, \"min\": 219519, \"max\": 219519}, \"Max Batches Seen Between Resets\": {\"sum\": 220.0, \"count\": 1, \"min\": 220, \"max\": 220}, \"Reset Count\": {\"sum\": 16.0, \"count\": 1, \"min\": 16, \"max\": 16}, \"Number of Records Since Last Reset\": {\"sum\": 219519.0, \"count\": 1, \"min\": 219519, \"max\": 219519}, \"Number of Batches Since Last Reset\": {\"sum\": 220.0, \"count\": 1, \"min\": 220, \"max\": 220}}}\u001b[0m\n",
      "\u001b[34m[04/15/2022 19:45:24 INFO 139933643601728] #throughput_metric: host=algo-1, train throughput=78159.60924805677 records/second\u001b[0m\n",
      "\u001b[34m[04/15/2022 19:45:24 INFO 139933643601728] #quality_metric: host=algo-1, epoch=15, batch=0 train rmse <loss>=68.61341705526696\u001b[0m\n",
      "\u001b[34m[04/15/2022 19:45:24 INFO 139933643601728] #quality_metric: host=algo-1, epoch=15, batch=0 train mse <loss>=4707.801\u001b[0m\n",
      "\u001b[34m[04/15/2022 19:45:24 INFO 139933643601728] #quality_metric: host=algo-1, epoch=15, batch=0 train absolute_loss <loss>=17.2486875\u001b[0m\n",
      "\u001b[34m[2022-04-15 19:45:27.536] [tensorio] [info] epoch_stats={\"data_pipeline\": \"/opt/ml/input/data/train\", \"epoch\": 32, \"duration\": 2778, \"num_examples\": 220, \"num_bytes\": 21856132}\u001b[0m\n",
      "\u001b[34m[04/15/2022 19:45:27 INFO 139933643601728] #quality_metric: host=algo-1, epoch=15, train rmse <loss>=89.32885107497465\u001b[0m\n",
      "\u001b[34m[04/15/2022 19:45:27 INFO 139933643601728] #quality_metric: host=algo-1, epoch=15, train mse <loss>=7979.643634375\u001b[0m\n",
      "\u001b[34m[04/15/2022 19:45:27 INFO 139933643601728] #quality_metric: host=algo-1, epoch=15, train absolute_loss <loss>=17.30803719815341\u001b[0m\n",
      "\u001b[34m#metrics {\"StartTime\": 1650051924.7567234, \"EndTime\": 1650051927.537201, \"Dimensions\": {\"Algorithm\": \"factorization-machines\", \"Host\": \"algo-1\", \"Operation\": \"training\"}, \"Metrics\": {\"update.time\": {\"sum\": 2780.2090644836426, \"count\": 1, \"min\": 2780.2090644836426, \"max\": 2780.2090644836426}}}\u001b[0m\n",
      "\u001b[34m[04/15/2022 19:45:27 INFO 139933643601728] #progress_metric: host=algo-1, completed 80.0 % of epochs\u001b[0m\n",
      "\u001b[34m#metrics {\"StartTime\": 1650051924.756968, \"EndTime\": 1650051927.5373998, \"Dimensions\": {\"Algorithm\": \"factorization-machines\", \"Host\": \"algo-1\", \"Operation\": \"training\", \"epoch\": 15, \"Meta\": \"training_data_iter\"}, \"Metrics\": {\"Total Records Seen\": {\"sum\": 3513304.0, \"count\": 1, \"min\": 3513304, \"max\": 3513304}, \"Total Batches Seen\": {\"sum\": 3521.0, \"count\": 1, \"min\": 3521, \"max\": 3521}, \"Max Records Seen Between Resets\": {\"sum\": 219519.0, \"count\": 1, \"min\": 219519, \"max\": 219519}, \"Max Batches Seen Between Resets\": {\"sum\": 220.0, \"count\": 1, \"min\": 220, \"max\": 220}, \"Reset Count\": {\"sum\": 17.0, \"count\": 1, \"min\": 17, \"max\": 17}, \"Number of Records Since Last Reset\": {\"sum\": 219519.0, \"count\": 1, \"min\": 219519, \"max\": 219519}, \"Number of Batches Since Last Reset\": {\"sum\": 220.0, \"count\": 1, \"min\": 220, \"max\": 220}}}\u001b[0m\n",
      "\u001b[34m[04/15/2022 19:45:27 INFO 139933643601728] #throughput_metric: host=algo-1, train throughput=78948.46269574962 records/second\u001b[0m\n",
      "\u001b[34m[04/15/2022 19:45:27 INFO 139933643601728] #quality_metric: host=algo-1, epoch=16, batch=0 train rmse <loss>=68.55855161830652\u001b[0m\n",
      "\u001b[34m[04/15/2022 19:45:27 INFO 139933643601728] #quality_metric: host=algo-1, epoch=16, batch=0 train mse <loss>=4700.275\u001b[0m\n",
      "\u001b[34m[04/15/2022 19:45:27 INFO 139933643601728] #quality_metric: host=algo-1, epoch=16, batch=0 train absolute_loss <loss>=17.207400390625\u001b[0m\n",
      "\u001b[34m[2022-04-15 19:45:30.245] [tensorio] [info] epoch_stats={\"data_pipeline\": \"/opt/ml/input/data/train\", \"epoch\": 34, \"duration\": 2706, \"num_examples\": 220, \"num_bytes\": 21856132}\u001b[0m\n",
      "\u001b[34m[04/15/2022 19:45:30 INFO 139933643601728] #quality_metric: host=algo-1, epoch=16, train rmse <loss>=89.2773943729471\u001b[0m\n",
      "\u001b[34m[04/15/2022 19:45:30 INFO 139933643601728] #quality_metric: host=algo-1, epoch=16, train mse <loss>=7970.453146022727\u001b[0m\n",
      "\u001b[34m[04/15/2022 19:45:30 INFO 139933643601728] #quality_metric: host=algo-1, epoch=16, train absolute_loss <loss>=17.283455996981534\u001b[0m\n",
      "\u001b[34m#metrics {\"StartTime\": 1650051927.5372658, \"EndTime\": 1650051930.2460093, \"Dimensions\": {\"Algorithm\": \"factorization-machines\", \"Host\": \"algo-1\", \"Operation\": \"training\"}, \"Metrics\": {\"update.time\": {\"sum\": 2708.355188369751, \"count\": 1, \"min\": 2708.355188369751, \"max\": 2708.355188369751}}}\u001b[0m\n",
      "\u001b[34m[04/15/2022 19:45:30 INFO 139933643601728] #progress_metric: host=algo-1, completed 85.0 % of epochs\u001b[0m\n",
      "\u001b[34m#metrics {\"StartTime\": 1650051927.5376291, \"EndTime\": 1650051930.2462275, \"Dimensions\": {\"Algorithm\": \"factorization-machines\", \"Host\": \"algo-1\", \"Operation\": \"training\", \"epoch\": 16, \"Meta\": \"training_data_iter\"}, \"Metrics\": {\"Total Records Seen\": {\"sum\": 3732823.0, \"count\": 1, \"min\": 3732823, \"max\": 3732823}, \"Total Batches Seen\": {\"sum\": 3741.0, \"count\": 1, \"min\": 3741, \"max\": 3741}, \"Max Records Seen Between Resets\": {\"sum\": 219519.0, \"count\": 1, \"min\": 219519, \"max\": 219519}, \"Max Batches Seen Between Resets\": {\"sum\": 220.0, \"count\": 1, \"min\": 220, \"max\": 220}, \"Reset Count\": {\"sum\": 18.0, \"count\": 1, \"min\": 18, \"max\": 18}, \"Number of Records Since Last Reset\": {\"sum\": 219519.0, \"count\": 1, \"min\": 219519, \"max\": 219519}, \"Number of Batches Since Last Reset\": {\"sum\": 220.0, \"count\": 1, \"min\": 220, \"max\": 220}}}\u001b[0m\n",
      "\u001b[34m[04/15/2022 19:45:30 INFO 139933643601728] #throughput_metric: host=algo-1, train throughput=81041.95657884835 records/second\u001b[0m\n",
      "\u001b[34m[04/15/2022 19:45:30 INFO 139933643601728] #quality_metric: host=algo-1, epoch=17, batch=0 train rmse <loss>=68.50716750822501\u001b[0m\n",
      "\u001b[34m[04/15/2022 19:45:30 INFO 139933643601728] #quality_metric: host=algo-1, epoch=17, batch=0 train mse <loss>=4693.232\u001b[0m\n",
      "\u001b[34m[04/15/2022 19:45:30 INFO 139933643601728] #quality_metric: host=algo-1, epoch=17, batch=0 train absolute_loss <loss>=17.1710078125\u001b[0m\n",
      "\u001b[34m[2022-04-15 19:45:33.120] [tensorio] [info] epoch_stats={\"data_pipeline\": \"/opt/ml/input/data/train\", \"epoch\": 36, \"duration\": 2871, \"num_examples\": 220, \"num_bytes\": 21856132}\u001b[0m\n",
      "\u001b[34m[04/15/2022 19:45:33 INFO 139933643601728] #quality_metric: host=algo-1, epoch=17, train rmse <loss>=89.22836755916096\u001b[0m\n",
      "\u001b[34m[04/15/2022 19:45:33 INFO 139933643601728] #quality_metric: host=algo-1, epoch=17, train mse <loss>=7961.701577272727\u001b[0m\n",
      "\u001b[34m[04/15/2022 19:45:33 INFO 139933643601728] #quality_metric: host=algo-1, epoch=17, train absolute_loss <loss>=17.25918828568892\u001b[0m\n",
      "\u001b[34m#metrics {\"StartTime\": 1650051930.2460766, \"EndTime\": 1650051933.1208594, \"Dimensions\": {\"Algorithm\": \"factorization-machines\", \"Host\": \"algo-1\", \"Operation\": \"training\"}, \"Metrics\": {\"update.time\": {\"sum\": 2873.628616333008, \"count\": 1, \"min\": 2873.628616333008, \"max\": 2873.628616333008}}}\u001b[0m\n",
      "\u001b[34m[04/15/2022 19:45:33 INFO 139933643601728] #progress_metric: host=algo-1, completed 90.0 % of epochs\u001b[0m\n",
      "\u001b[34m#metrics {\"StartTime\": 1650051930.2472048, \"EndTime\": 1650051933.1210766, \"Dimensions\": {\"Algorithm\": \"factorization-machines\", \"Host\": \"algo-1\", \"Operation\": \"training\", \"epoch\": 17, \"Meta\": \"training_data_iter\"}, \"Metrics\": {\"Total Records Seen\": {\"sum\": 3952342.0, \"count\": 1, \"min\": 3952342, \"max\": 3952342}, \"Total Batches Seen\": {\"sum\": 3961.0, \"count\": 1, \"min\": 3961, \"max\": 3961}, \"Max Records Seen Between Resets\": {\"sum\": 219519.0, \"count\": 1, \"min\": 219519, \"max\": 219519}, \"Max Batches Seen Between Resets\": {\"sum\": 220.0, \"count\": 1, \"min\": 220, \"max\": 220}, \"Reset Count\": {\"sum\": 19.0, \"count\": 1, \"min\": 19, \"max\": 19}, \"Number of Records Since Last Reset\": {\"sum\": 219519.0, \"count\": 1, \"min\": 219519, \"max\": 219519}, \"Number of Batches Since Last Reset\": {\"sum\": 220.0, \"count\": 1, \"min\": 220, \"max\": 220}}}\u001b[0m\n",
      "\u001b[34m[04/15/2022 19:45:33 INFO 139933643601728] #throughput_metric: host=algo-1, train throughput=76381.72884780263 records/second\u001b[0m\n",
      "\u001b[34m[04/15/2022 19:45:33 INFO 139933643601728] #quality_metric: host=algo-1, epoch=18, batch=0 train rmse <loss>=68.45944785053412\u001b[0m\n",
      "\u001b[34m[04/15/2022 19:45:33 INFO 139933643601728] #quality_metric: host=algo-1, epoch=18, batch=0 train mse <loss>=4686.696\u001b[0m\n",
      "\u001b[34m[04/15/2022 19:45:33 INFO 139933643601728] #quality_metric: host=algo-1, epoch=18, batch=0 train absolute_loss <loss>=17.1378046875\u001b[0m\n",
      "\u001b[34m[2022-04-15 19:45:35.861] [tensorio] [info] epoch_stats={\"data_pipeline\": \"/opt/ml/input/data/train\", \"epoch\": 38, \"duration\": 2738, \"num_examples\": 220, \"num_bytes\": 21856132}\u001b[0m\n",
      "\u001b[34m[04/15/2022 19:45:35 INFO 139933643601728] #quality_metric: host=algo-1, epoch=18, train rmse <loss>=89.18173190559723\u001b[0m\n",
      "\u001b[34m[04/15/2022 19:45:35 INFO 139933643601728] #quality_metric: host=algo-1, epoch=18, train mse <loss>=7953.381305681818\u001b[0m\n",
      "\u001b[34m[04/15/2022 19:45:35 INFO 139933643601728] #quality_metric: host=algo-1, epoch=18, train absolute_loss <loss>=17.23677677112926\u001b[0m\n",
      "\u001b[34m#metrics {\"StartTime\": 1650051933.1209252, \"EndTime\": 1650051935.8623023, \"Dimensions\": {\"Algorithm\": \"factorization-machines\", \"Host\": \"algo-1\", \"Operation\": \"training\"}, \"Metrics\": {\"update.time\": {\"sum\": 2740.9980297088623, \"count\": 1, \"min\": 2740.9980297088623, \"max\": 2740.9980297088623}}}\u001b[0m\n",
      "\u001b[34m[04/15/2022 19:45:35 INFO 139933643601728] #progress_metric: host=algo-1, completed 95.0 % of epochs\u001b[0m\n",
      "\u001b[34m#metrics {\"StartTime\": 1650051933.1212804, \"EndTime\": 1650051935.8625095, \"Dimensions\": {\"Algorithm\": \"factorization-machines\", \"Host\": \"algo-1\", \"Operation\": \"training\", \"epoch\": 18, \"Meta\": \"training_data_iter\"}, \"Metrics\": {\"Total Records Seen\": {\"sum\": 4171861.0, \"count\": 1, \"min\": 4171861, \"max\": 4171861}, \"Total Batches Seen\": {\"sum\": 4181.0, \"count\": 1, \"min\": 4181, \"max\": 4181}, \"Max Records Seen Between Resets\": {\"sum\": 219519.0, \"count\": 1, \"min\": 219519, \"max\": 219519}, \"Max Batches Seen Between Resets\": {\"sum\": 220.0, \"count\": 1, \"min\": 220, \"max\": 220}, \"Reset Count\": {\"sum\": 20.0, \"count\": 1, \"min\": 20, \"max\": 20}, \"Number of Records Since Last Reset\": {\"sum\": 219519.0, \"count\": 1, \"min\": 219519, \"max\": 219519}, \"Number of Batches Since Last Reset\": {\"sum\": 220.0, \"count\": 1, \"min\": 220, \"max\": 220}}}\u001b[0m\n",
      "\u001b[34m[04/15/2022 19:45:35 INFO 139933643601728] #throughput_metric: host=algo-1, train throughput=80077.89056997512 records/second\u001b[0m\n",
      "\u001b[34m[04/15/2022 19:45:35 INFO 139933643601728] #quality_metric: host=algo-1, epoch=19, batch=0 train rmse <loss>=68.41493988888685\u001b[0m\n",
      "\u001b[34m[04/15/2022 19:45:35 INFO 139933643601728] #quality_metric: host=algo-1, epoch=19, batch=0 train mse <loss>=4680.604\u001b[0m\n",
      "\u001b[34m[04/15/2022 19:45:35 INFO 139933643601728] #quality_metric: host=algo-1, epoch=19, batch=0 train absolute_loss <loss>=17.10520703125\u001b[0m\n",
      "\u001b[34m[2022-04-15 19:45:38.664] [tensorio] [info] epoch_stats={\"data_pipeline\": \"/opt/ml/input/data/train\", \"epoch\": 40, \"duration\": 2800, \"num_examples\": 220, \"num_bytes\": 21856132}\u001b[0m\n",
      "\u001b[34m[04/15/2022 19:45:38 INFO 139933643601728] #quality_metric: host=algo-1, epoch=19, train rmse <loss>=89.13712189336056\u001b[0m\n",
      "\u001b[34m[04/15/2022 19:45:38 INFO 139933643601728] #quality_metric: host=algo-1, epoch=19, train mse <loss>=7945.426499431818\u001b[0m\n",
      "\u001b[34m[04/15/2022 19:45:38 INFO 139933643601728] #quality_metric: host=algo-1, epoch=19, train absolute_loss <loss>=17.212976438210227\u001b[0m\n",
      "\u001b[34m[04/15/2022 19:45:38 INFO 139933643601728] #quality_metric: host=algo-1, train rmse <loss>=89.13712189336056\u001b[0m\n",
      "\u001b[34m[04/15/2022 19:45:38 INFO 139933643601728] #quality_metric: host=algo-1, train mse <loss>=7945.426499431818\u001b[0m\n",
      "\u001b[34m[04/15/2022 19:45:38 INFO 139933643601728] #quality_metric: host=algo-1, train absolute_loss <loss>=17.212976438210227\u001b[0m\n",
      "\u001b[34m#metrics {\"StartTime\": 1650051935.8623667, \"EndTime\": 1650051938.6655638, \"Dimensions\": {\"Algorithm\": \"factorization-machines\", \"Host\": \"algo-1\", \"Operation\": \"training\"}, \"Metrics\": {\"update.time\": {\"sum\": 2802.842855453491, \"count\": 1, \"min\": 2802.842855453491, \"max\": 2802.842855453491}}}\u001b[0m\n",
      "\u001b[34m[04/15/2022 19:45:38 INFO 139933643601728] #progress_metric: host=algo-1, completed 100.0 % of epochs\u001b[0m\n",
      "\u001b[34m#metrics {\"StartTime\": 1650051935.8626935, \"EndTime\": 1650051938.6657743, \"Dimensions\": {\"Algorithm\": \"factorization-machines\", \"Host\": \"algo-1\", \"Operation\": \"training\", \"epoch\": 19, \"Meta\": \"training_data_iter\"}, \"Metrics\": {\"Total Records Seen\": {\"sum\": 4391380.0, \"count\": 1, \"min\": 4391380, \"max\": 4391380}, \"Total Batches Seen\": {\"sum\": 4401.0, \"count\": 1, \"min\": 4401, \"max\": 4401}, \"Max Records Seen Between Resets\": {\"sum\": 219519.0, \"count\": 1, \"min\": 219519, \"max\": 219519}, \"Max Batches Seen Between Resets\": {\"sum\": 220.0, \"count\": 1, \"min\": 220, \"max\": 220}, \"Reset Count\": {\"sum\": 21.0, \"count\": 1, \"min\": 21, \"max\": 21}, \"Number of Records Since Last Reset\": {\"sum\": 219519.0, \"count\": 1, \"min\": 219519, \"max\": 219519}, \"Number of Batches Since Last Reset\": {\"sum\": 220.0, \"count\": 1, \"min\": 220, \"max\": 220}}}\u001b[0m\n",
      "\u001b[34m[04/15/2022 19:45:38 INFO 139933643601728] #throughput_metric: host=algo-1, train throughput=78310.2652551934 records/second\u001b[0m\n",
      "\u001b[34m[04/15/2022 19:45:38 WARNING 139933643601728] wait_for_all_workers will not sync workers since the kv store is not running distributed\u001b[0m\n",
      "\u001b[34m[04/15/2022 19:45:38 INFO 139933643601728] Pulling entire model from kvstore to finalize\u001b[0m\n",
      "\u001b[34m#metrics {\"StartTime\": 1650051938.665625, \"EndTime\": 1650051938.6711044, \"Dimensions\": {\"Algorithm\": \"factorization-machines\", \"Host\": \"algo-1\", \"Operation\": \"training\"}, \"Metrics\": {\"finalize.time\": {\"sum\": 5.085468292236328, \"count\": 1, \"min\": 5.085468292236328, \"max\": 5.085468292236328}}}\u001b[0m\n",
      "\u001b[34m[04/15/2022 19:45:38 INFO 139933643601728] Saved checkpoint to \"/tmp/tmpvk0y5m0b/state-0001.params\"\u001b[0m\n",
      "\u001b[34m[2022-04-15 19:45:38.688] [tensorio] [info] epoch_stats={\"data_pipeline\": \"/opt/ml/input/data/test\", \"epoch\": 0, \"duration\": 56556, \"num_examples\": 1, \"num_bytes\": 99820}\u001b[0m\n",
      "\u001b[34m[2022-04-15 19:45:38.922] [tensorio] [info] epoch_stats={\"data_pipeline\": \"/opt/ml/input/data/test\", \"epoch\": 1, \"duration\": 233, \"num_examples\": 55, \"num_bytes\": 5462876}\u001b[0m\n",
      "\u001b[34m#metrics {\"StartTime\": 1650051938.6882167, \"EndTime\": 1650051938.922684, \"Dimensions\": {\"Algorithm\": \"factorization-machines\", \"Host\": \"algo-1\", \"Operation\": \"training\", \"Meta\": \"test_data_iter\"}, \"Metrics\": {\"Total Records Seen\": {\"sum\": 54880.0, \"count\": 1, \"min\": 54880, \"max\": 54880}, \"Total Batches Seen\": {\"sum\": 55.0, \"count\": 1, \"min\": 55, \"max\": 55}, \"Max Records Seen Between Resets\": {\"sum\": 54880.0, \"count\": 1, \"min\": 54880, \"max\": 54880}, \"Max Batches Seen Between Resets\": {\"sum\": 55.0, \"count\": 1, \"min\": 55, \"max\": 55}, \"Reset Count\": {\"sum\": 1.0, \"count\": 1, \"min\": 1, \"max\": 1}, \"Number of Records Since Last Reset\": {\"sum\": 54880.0, \"count\": 1, \"min\": 54880, \"max\": 54880}, \"Number of Batches Since Last Reset\": {\"sum\": 55.0, \"count\": 1, \"min\": 55, \"max\": 55}}}\u001b[0m\n",
      "\u001b[34m[04/15/2022 19:45:38 INFO 139933643601728] #test_score (algo-1) : ('rmse', 68.74431145296938)\u001b[0m\n",
      "\u001b[34m[04/15/2022 19:45:38 INFO 139933643601728] #test_score (algo-1) : ('mse', 4725.780357142857)\u001b[0m\n",
      "\u001b[34m[04/15/2022 19:45:38 INFO 139933643601728] #test_score (algo-1) : ('absolute_loss', 17.043618124914587)\u001b[0m\n",
      "\u001b[34m[04/15/2022 19:45:38 INFO 139933643601728] #quality_metric: host=algo-1, test rmse <loss>=68.74431145296938\u001b[0m\n",
      "\u001b[34m[04/15/2022 19:45:38 INFO 139933643601728] #quality_metric: host=algo-1, test mse <loss>=4725.780357142857\u001b[0m\n",
      "\u001b[34m[04/15/2022 19:45:38 INFO 139933643601728] #quality_metric: host=algo-1, test absolute_loss <loss>=17.043618124914587\u001b[0m\n",
      "\u001b[34m#metrics {\"StartTime\": 1650051938.6711783, \"EndTime\": 1650051938.9238377, \"Dimensions\": {\"Algorithm\": \"factorization-machines\", \"Host\": \"algo-1\", \"Operation\": \"training\"}, \"Metrics\": {\"setuptime\": {\"sum\": 20.181894302368164, \"count\": 1, \"min\": 20.181894302368164, \"max\": 20.181894302368164}, \"totaltime\": {\"sum\": 56831.74633979797, \"count\": 1, \"min\": 56831.74633979797, \"max\": 56831.74633979797}}}\u001b[0m\n",
      "\u001b[34m[04/15/2022 19:45:38 INFO 139933643601728 integration.py:636] worker closed\u001b[0m\n",
      "\n",
      "2022-04-15 19:45:58 Uploading - Uploading generated training model\n",
      "2022-04-15 19:45:58 Completed - Training job completed\n",
      "Training seconds: 153\n",
      "Billable seconds: 153\n",
      "Stored 'training_job_name' (str)\n"
     ]
    }
   ],
   "source": [
    "if 'training_job_name' not in locals():\n",
    "    \n",
    "    fm.fit({'train': train_data_location, 'test': test_data_location})\n",
    "    training_job_name = fm.latest_training_job.job_name\n",
    "    %store training_job_name\n",
    "    \n",
    "else:\n",
    "    print(f'Using previous training job: {training_job_name}')"
   ]
  },
  {
   "cell_type": "markdown",
   "metadata": {},
   "source": [
    "Once our model is trained, we will want to use SageMaker ML Lineage Tracking to track different artifacts about the model. "
   ]
  },
  {
   "cell_type": "code",
   "execution_count": 26,
   "metadata": {},
   "outputs": [],
   "source": [
    "training_job_info = sagemaker_boto_client.describe_training_job(TrainingJobName=training_job_name)"
   ]
  },
  {
   "cell_type": "markdown",
   "metadata": {},
   "source": [
    "### Training data artifact\n",
    "\n",
    "And important aspect of transparency in machine learning is to be able to link a model with code and data used to train it, so we can easily find how any given model was produced. In the event that a model begins to start perfroming poorly, we should be able to quickly find all of all artifacts used to create it, so we can debug to the problem at the source.\n",
    "\n",
    "To do this, we need to create an artifact for every aspect of training we'd like to save.\n",
    "\n",
    "First, we will create an artifact containing training data. "
   ]
  },
  {
   "cell_type": "code",
   "execution_count": 27,
   "metadata": {},
   "outputs": [
    {
     "name": "stdout",
     "output_type": "stream",
     "text": [
      "Using existing artifact: arn:aws:sagemaker:us-east-1:267710284436:artifact/354fcb101b03a6f2b0651cd633f7fef5\n"
     ]
    }
   ],
   "source": [
    "training_data_s3_uri = training_job_info[\"InputDataConfig\"][0][\"DataSource\"][\"S3DataSource\"][\n",
    "    \"S3Uri\"\n",
    "]\n",
    "\n",
    "matching_artifacts = list(\n",
    "    artifact.Artifact.list(source_uri=training_data_s3_uri, sagemaker_session=sagemaker_session)\n",
    ")\n",
    "\n",
    "if matching_artifacts:\n",
    "    training_data_artifact = matching_artifacts[0]\n",
    "    print(f\"Using existing artifact: {training_data_artifact.artifact_arn}\")\n",
    "else:\n",
    "    training_data_artifact = artifact.Artifact.create(\n",
    "        artifact_name=\"TrainingData\",\n",
    "        source_uri=training_data_s3_uri,\n",
    "        artifact_type=\"Dataset\",\n",
    "        sagemaker_session=sagemaker_session,\n",
    "    )\n",
    "    print(f\"Create artifact {training_data_artifact.artifact_arn}: SUCCESSFUL\")"
   ]
  },
  {
   "cell_type": "markdown",
   "metadata": {},
   "source": [
    "### Model artifact\n",
    "\n",
    "Then we will create an artifact containing the model itself. "
   ]
  },
  {
   "cell_type": "code",
   "execution_count": 28,
   "metadata": {},
   "outputs": [
    {
     "name": "stdout",
     "output_type": "stream",
     "text": [
      "Using existing artifact: arn:aws:sagemaker:us-east-1:267710284436:artifact/cdb4ea6675f5b2b676783bbddccfb2fa\n"
     ]
    }
   ],
   "source": [
    "trained_model_s3_uri = training_job_info[\"ModelArtifacts\"][\"S3ModelArtifacts\"]\n",
    "\n",
    "matching_artifacts = list(\n",
    "    artifact.Artifact.list(source_uri=trained_model_s3_uri, sagemaker_session=sagemaker_session)\n",
    ")\n",
    "\n",
    "if matching_artifacts:\n",
    "    model_artifact = matching_artifacts[0]\n",
    "    print(f\"Using existing artifact: {model_artifact.artifact_arn}\")\n",
    "else:\n",
    "    model_artifact = artifact.Artifact.create(\n",
    "        artifact_name=\"TrainedModel\",\n",
    "        source_uri=trained_model_s3_uri,\n",
    "        artifact_type=\"Model\",\n",
    "        sagemaker_session=sagemaker_session,\n",
    "    )\n",
    "    print(f\"Create artifact {model_artifact.artifact_arn}: SUCCESSFUL\")"
   ]
  },
  {
   "cell_type": "markdown",
   "metadata": {},
   "source": [
    "### Set artifact associations\n",
    "\n",
    "We can then set the associations for these artifacts."
   ]
  },
  {
   "cell_type": "code",
   "execution_count": 29,
   "metadata": {},
   "outputs": [],
   "source": [
    "trial_component = sagemaker_boto_client.describe_trial_component(\n",
    "    TrialComponentName=training_job_name + \"-aws-training-job\"\n",
    ")\n",
    "trial_component_arn = trial_component[\"TrialComponentArn\"]"
   ]
  },
  {
   "cell_type": "markdown",
   "metadata": {},
   "source": [
    "### Store artifacts"
   ]
  },
  {
   "cell_type": "code",
   "execution_count": 30,
   "metadata": {},
   "outputs": [
    {
     "name": "stdout",
     "output_type": "stream",
     "text": [
      "Association already exists with DataSet\n",
      "Association with Model: SUCCEESFUL\n"
     ]
    }
   ],
   "source": [
    "artifact_list = [[training_data_artifact, \"ContributedTo\"], [model_artifact, \"Produced\"]]\n",
    "\n",
    "for art, assoc in artifact_list:\n",
    "    try:\n",
    "        association.Association.create(\n",
    "            source_arn=art.artifact_arn,\n",
    "            destination_arn=trial_component_arn,\n",
    "            association_type=assoc,\n",
    "            sagemaker_session=sagemaker_session,\n",
    "        )\n",
    "        print(f\"Association with {art.artifact_type}: SUCCEESFUL\")\n",
    "    except:\n",
    "        print(f\"Association already exists with {art.artifact_type}\")"
   ]
  },
  {
   "cell_type": "code",
   "execution_count": 31,
   "metadata": {},
   "outputs": [
    {
     "name": "stdout",
     "output_type": "stream",
     "text": [
      "Creating model retail-recommendations\n"
     ]
    }
   ],
   "source": [
    "model_name = \"retail-recommendations\"\n",
    "model_matches = sagemaker_boto_client.list_models(NameContains=model_name)[\"Models\"]\n",
    "\n",
    "if not model_matches:\n",
    "    print(f\"Creating model {model_name}\")\n",
    "    model = sagemaker_session.create_model_from_job(\n",
    "        name=model_name,\n",
    "        training_job_name=training_job_info[\"TrainingJobName\"],\n",
    "        role=sagemaker_role,\n",
    "        image_uri=training_job_info[\"AlgorithmSpecification\"][\"TrainingImage\"],\n",
    "    )\n",
    "else:\n",
    "    print(f\"Model {model_name} already exists.\")"
   ]
  },
  {
   "cell_type": "markdown",
   "metadata": {},
   "source": [
    "## SageMaker Model Registry\n",
    "\n",
    "Once a useful model has been trained and its artifacts properly associated, the next step is to register the model for future reference and possible deployment. This allows you to gain visibility and reproducibility of the process by which we create the models. \n",
    "\n",
    "### Create Model Package Group\n",
    "\n",
    "A Model Package Groups holds multiple versions or iterations of a model. Though it is not required to create them for every model in the registry, they help organize various models which all have the same purpose and provide autiomatic versioning.\n",
    "\n",
    "\n",
    "We create model package group that contains different version of a model. You can register each model you train, and the model registry adds it to the model group as a new model version. If you plan on tracking multiple version of a model, you need to create a model package group first."
   ]
  },
  {
   "cell_type": "code",
   "execution_count": 34,
   "metadata": {},
   "outputs": [
    {
     "name": "stdout",
     "output_type": "stream",
     "text": [
      "Stored 'mpg_name' (str)\n",
      "Model Package Group name: retail-recommendation-2022-04-15-20-10\n"
     ]
    }
   ],
   "source": [
    "if 'mpg_name' not in locals():\n",
    "    timestamp = datetime.datetime.now().strftime('%Y-%m-%d-%H-%M')\n",
    "    mpg_name = f'retail-recommendation-{timestamp}'\n",
    "    %store mpg_name\n",
    "\n",
    "print(f'Model Package Group name: {mpg_name}')"
   ]
  },
  {
   "cell_type": "code",
   "execution_count": 35,
   "metadata": {},
   "outputs": [],
   "source": [
    "mpg_input_dict = {\n",
    "    \"ModelPackageGroupName\": mpg_name,\n",
    "    \"ModelPackageGroupDescription\": \"Recommendation for Online Retail Sales\",\n",
    "}"
   ]
  },
  {
   "cell_type": "code",
   "execution_count": 36,
   "metadata": {},
   "outputs": [
    {
     "name": "stdout",
     "output_type": "stream",
     "text": [
      "Create Model Package Group retail-recommendation-2022-04-15-20-10: SUCCESSFUL\n"
     ]
    }
   ],
   "source": [
    "matching_mpg = sagemaker_boto_client.list_model_package_groups(NameContains=mpg_name)[\n",
    "    \"ModelPackageGroupSummaryList\"\n",
    "]\n",
    "\n",
    "if matching_mpg:\n",
    "    print(f\"Using existing Model Package Group: {mpg_name}\")\n",
    "else:\n",
    "    mpg_response = sagemaker_boto_client.create_model_package_group(**mpg_input_dict)\n",
    "    print(f\"Create Model Package Group {mpg_name}: SUCCESSFUL\")"
   ]
  },
  {
   "cell_type": "markdown",
   "metadata": {},
   "source": [
    "Once the model package group has been created, you can now add the first version of your trained model to it.\n",
    "We will only show one version of a model here, but in practice, you may have different versions as you try different features, different hyperparameters, or even update your model over time. \n",
    "\n",
    "Along with s3 location of the trained model, you need to add the inference specification, so we know what Docker image to use to deploy the model and make the prediction. \n",
    "We can also use various training metrics like training and validation, group mean square error. \n",
    "\n",
    "Here we inlcude every metric that is associated with our training job. "
   ]
  },
  {
   "cell_type": "code",
   "execution_count": 38,
   "metadata": {},
   "outputs": [],
   "source": [
    "model_metrics_report = {\"regression_metrics\": {}}\n",
    "\n",
    "for metric in training_job_info[\"FinalMetricDataList\"]:\n",
    "    stat = {metric[\"MetricName\"]: {\"value\": metric[\"Value\"]}}\n",
    "    model_metrics_report[\"regression_metrics\"].update(stat)\n",
    "\n",
    "with open(\"training_metrics.json\", \"w\") as f:\n",
    "    json.dump(model_metrics_report, f)\n",
    "\n",
    "metrics_s3_key = f\"training_jobs/{training_job_info['TrainingJobName']}/training_metrics.json\"\n",
    "s3_client.upload_file(Filename=\"training_metrics.json\", Bucket=bucket, Key=metrics_s3_key)"
   ]
  },
  {
   "cell_type": "markdown",
   "metadata": {},
   "source": [
    "#### Define the inference spec"
   ]
  },
  {
   "cell_type": "code",
   "execution_count": 39,
   "metadata": {},
   "outputs": [],
   "source": [
    "mp_inference_spec = InferenceSpecification().get_inference_specification_dict(\n",
    "    ecr_image=training_job_info[\"AlgorithmSpecification\"][\"TrainingImage\"],\n",
    "    supports_gpu=False,\n",
    "    supported_content_types=[\"application/x-recordio-protobuf\", \"application/json\"],\n",
    "    supported_mime_types=[\"text/csv\"],\n",
    ")\n",
    "\n",
    "mp_inference_spec[\"InferenceSpecification\"][\"Containers\"][0][\"ModelDataUrl\"] = training_job_info[\n",
    "    \"ModelArtifacts\"\n",
    "][\"S3ModelArtifacts\"]"
   ]
  },
  {
   "cell_type": "markdown",
   "metadata": {},
   "source": [
    "#### Define model metrics\n",
    "\n",
    "Metrics other than model quality can be defined. See the Boto3 documentation for [creating a model package](https://boto3.amazonaws.com/v1/documentation/api/latest/reference/services/sagemaker.html#SageMaker.Client.create_model_package)."
   ]
  },
  {
   "cell_type": "code",
   "execution_count": 40,
   "metadata": {},
   "outputs": [],
   "source": [
    "model_metrics = {\n",
    "    \"ModelQuality\": {\n",
    "        \"Statistics\": {\n",
    "            \"ContentType\": \"application/json\",\n",
    "            \"S3Uri\": f\"s3://{bucket}/{metrics_s3_key}\",\n",
    "        }\n",
    "    }\n",
    "}"
   ]
  },
  {
   "cell_type": "markdown",
   "metadata": {},
   "source": [
    "Finally, for model governance reasons, you can tag the model package with a status, it's easy to tell which models are actually approved or declined for deployment into production. \n",
    "Here we tage \"PendingManualApproval\"."
   ]
  },
  {
   "cell_type": "code",
   "execution_count": 41,
   "metadata": {},
   "outputs": [],
   "source": [
    "mp_input_dict = {\n",
    "    \"ModelPackageGroupName\": mpg_name,\n",
    "    \"ModelPackageDescription\": \"Factorization Machine Model to create personalized retail recommendations\",\n",
    "    \"ModelApprovalStatus\": \"PendingManualApproval\",\n",
    "    \"ModelMetrics\": model_metrics,\n",
    "}\n",
    "\n",
    "mp_input_dict.update(mp_inference_spec)\n",
    "mp_response = sagemaker_boto_client.create_model_package(**mp_input_dict)"
   ]
  },
  {
   "cell_type": "markdown",
   "metadata": {},
   "source": [
    "### Wait until model package is completed"
   ]
  },
  {
   "cell_type": "code",
   "execution_count": 42,
   "metadata": {},
   "outputs": [
    {
     "name": "stdout",
     "output_type": "stream",
     "text": [
      "model package status: Completed\n"
     ]
    }
   ],
   "source": [
    "mp_info = sagemaker_boto_client.describe_model_package(\n",
    "    ModelPackageName=mp_response[\"ModelPackageArn\"]\n",
    ")\n",
    "mp_status = mp_info[\"ModelPackageStatus\"]\n",
    "\n",
    "while mp_status not in [\"Completed\", \"Failed\"]:\n",
    "    time.sleep(5)\n",
    "    mp_info = sagemaker_boto_client.describe_model_package(\n",
    "        ModelPackageName=mp_response[\"ModelPackageArn\"]\n",
    "    )\n",
    "    mp_status = mp_info[\"ModelPackageStatus\"]\n",
    "    print(f\"model package status: {mp_status}\")\n",
    "print(f\"model package status: {mp_status}\")"
   ]
  },
  {
   "cell_type": "code",
   "execution_count": 43,
   "metadata": {},
   "outputs": [],
   "source": [
    "model_package = sagemaker_boto_client.list_model_packages(ModelPackageGroupName=mpg_name)[\n",
    "    \"ModelPackageSummaryList\"\n",
    "][0]\n",
    "model_package_update = {\n",
    "    \"ModelPackageArn\": model_package[\"ModelPackageArn\"],\n",
    "    \"ModelApprovalStatus\": \"Approved\",\n",
    "}\n",
    "\n",
    "update_response = sagemaker_boto_client.update_model_package(**model_package_update)"
   ]
  },
  {
   "cell_type": "markdown",
   "metadata": {},
   "source": [
    "### Create endpoint config and endpoint"
   ]
  },
  {
   "cell_type": "code",
   "execution_count": 51,
   "metadata": {},
   "outputs": [
    {
     "name": "stdout",
     "output_type": "stream",
     "text": [
      "Stored 'endpoint_config_name' (str)\n",
      "Endpoint status: Creating\n",
      "Endpoint status: Creating\n",
      "Endpoint status: Creating\n",
      "Endpoint status: Creating\n",
      "Endpoint status: Creating\n",
      "Endpoint status: InService\n"
     ]
    }
   ],
   "source": [
    "primary_container = {'ModelPackageName' : model_package['ModelPackageArn']}\n",
    "endpoint_config_name = f'{model_name}-endpoint-config'\n",
    "existing_configs = sagemaker_boto_client.list_endpoint_configs(NameContains = endpoint_config_name)['EndpointConfigs']\n",
    "\n",
    "if not existing_configs:\n",
    "    create_ep_config_response = sagemaker_boto_client.create_endpoint_config(\n",
    "        EndpointConfigName=endpoint_config_name,\n",
    "        ProductionVariants=[\n",
    "            {\n",
    "                \"InstanceType\": 'ml.m4.4xlarge',\n",
    "                \"InitialVariantWeight\": 1,\n",
    "                \"InitialInstanceCount\": 1,\n",
    "                \"ModelName\": model_name,\n",
    "                \"VariantName\": \"AllTraffic\",\n",
    "            }]\n",
    "    )\n",
    "    %store endpoint_config_name\n",
    "    \n",
    "\n",
    "endpoint_name = f'{model_name}-endpoint'\n",
    "existing_endpoints = sagemaker_boto_client.list_endpoints(NameContains=endpoint_name)[\"Endpoints\"]\n",
    "\n",
    "if not existing_endpoints:\n",
    "    create_endpoint_response = sagemaker_boto_client.create_endpoint(\n",
    "        EndpointName=endpoint_name, \n",
    "        EndpointConfigName=endpoint_config_name)\n",
    "     \n",
    "\n",
    "endpoint_info = sagemaker_boto_client.describe_endpoint(EndpointName=endpoint_name)\n",
    "endpoint_status = endpoint_info[\"EndpointStatus\"]\n",
    "\n",
    "while endpoint_status == \"Creating\":\n",
    "    endpoint_info = sagemaker_boto_client.describe_endpoint(EndpointName=endpoint_name)\n",
    "    endpoint_status = endpoint_info[\"EndpointStatus\"]\n",
    "    print(\"Endpoint status:\", endpoint_status)\n",
    "    if endpoint_status == \"Creating\":\n",
    "        time.sleep(60)\n"
   ]
  },
  {
   "cell_type": "markdown",
   "metadata": {},
   "source": [
    "## Make Predictions\n",
    "\n",
    "Now that we've trained our model, we can deploy it behind an Amazon SageMaker real-time hosted endpoint. This will allow out to make predictions (or inference) from the model dyanamically.\n",
    "\n",
    "Note, Amazon SageMaker allows you the flexibility of importing models trained elsewhere, as well as the choice of not importing models if the target of model creation is AWS Lambda, AWS Greengrass, Amazon Redshift, Amazon Athena, or other deployment target.\n",
    "\n",
    "Here we will take the top customer, the customer who spent the most money, and try to find which items to recommend to them."
   ]
  },
  {
   "cell_type": "code",
   "execution_count": 53,
   "metadata": {},
   "outputs": [],
   "source": [
    "from sagemaker.deserializers import JSONDeserializer\n",
    "from sagemaker.serializers import JSONSerializer"
   ]
  },
  {
   "cell_type": "code",
   "execution_count": 54,
   "metadata": {},
   "outputs": [
    {
     "name": "stdout",
     "output_type": "stream",
     "text": [
      "-----------!"
     ]
    }
   ],
   "source": [
    "class FMSerializer(JSONSerializer):\n",
    "    def serialize(self, data):\n",
    "        js = {\"instances\": []}\n",
    "        for row in data:\n",
    "            js[\"instances\"].append({\"features\": row.tolist()})\n",
    "        return json.dumps(js)\n",
    "\n",
    "\n",
    "fm_predictor = fm.deploy(\n",
    "    initial_instance_count=1,\n",
    "    instance_type=\"ml.m4.xlarge\",\n",
    "    serializer=FMSerializer(),\n",
    "    deserializer=JSONDeserializer(),\n",
    ")"
   ]
  },
  {
   "cell_type": "code",
   "execution_count": 55,
   "metadata": {},
   "outputs": [],
   "source": [
    "# find customer who spent the most money\n",
    "\n",
    "df[\"invoice_amount\"] = df[\"Quantity\"] * df[\"UnitPrice\"]\n",
    "top_customer = (\n",
    "    df.groupby(\"CustomerID\").sum()[\"invoice_amount\"].sort_values(ascending=False).index[0]\n",
    ")"
   ]
  },
  {
   "cell_type": "code",
   "execution_count": 56,
   "metadata": {},
   "outputs": [],
   "source": [
    "def get_recommendations(df, customer_id, n_recommendations, n_ranks=100):\n",
    "    popular_items = (\n",
    "        df.groupby([\"StockCode\", \"UnitPrice\"])\n",
    "        .nunique()[\"CustomerID\"]\n",
    "        .sort_values(ascending=False)\n",
    "        .reset_index()\n",
    "    )\n",
    "    top_n_items = popular_items[\"StockCode\"].iloc[:n_ranks].values\n",
    "    top_n_prices = popular_items[\"UnitPrice\"].iloc[:n_ranks].values\n",
    "\n",
    "    # stock codes can have multiple descriptions, so we will choose whichever description is most common\n",
    "    item_map = df.groupby(\"StockCode\").agg(lambda x: x.value_counts().index[0])[\"Description\"]\n",
    "\n",
    "    # find customer's country\n",
    "    df_subset = df.loc[df[\"CustomerID\"] == customer_id]\n",
    "    country = df_subset[\"Country\"].value_counts().index[0]\n",
    "\n",
    "    data = {\n",
    "        \"StockCode\": top_n_items,\n",
    "        \"Description\": [item_map[i] for i in top_n_items],\n",
    "        \"CustomerID\": customer_id,\n",
    "        \"Country\": country,\n",
    "        \"UnitPrice\": top_n_prices,\n",
    "    }\n",
    "\n",
    "    df_inference = pd.DataFrame(data)\n",
    "\n",
    "    # we need to build the data set similar to how we built it for training\n",
    "    # it should have the same number of features as the training data\n",
    "    enc = OneHotEncoder(handle_unknown=\"ignore\")\n",
    "    onehot_cols = [\"StockCode\", \"CustomerID\", \"Country\"]\n",
    "    enc.fit(df[onehot_cols])\n",
    "    onehot_output = enc.transform(df_inference[onehot_cols])\n",
    "\n",
    "    vectorizer = TfidfVectorizer(min_df=2)\n",
    "    unique_descriptions = df[\"Description\"].unique()\n",
    "    vectorizer.fit(unique_descriptions)\n",
    "    tfidf_output = vectorizer.transform(df_inference[\"Description\"])\n",
    "\n",
    "    row = range(len(df_inference))\n",
    "    col = [0] * len(df_inference)\n",
    "    unit_price = csr_matrix((df_inference[\"UnitPrice\"].values, (row, col)), dtype=\"float32\")\n",
    "\n",
    "    X_inference = hstack([onehot_output, tfidf_output, unit_price], format=\"csr\")\n",
    "\n",
    "    result = fm_predictor.predict(X_inference.toarray())\n",
    "    preds = [i[\"score\"] for i in result[\"predictions\"]]\n",
    "    index_array = np.array(preds).argsort()\n",
    "    items = enc.inverse_transform(onehot_output)[:, 0]\n",
    "    top_recs = np.take_along_axis(items, index_array, axis=0)[: -n_recommendations - 1 : -1]\n",
    "    recommendations = [[i, item_map[i]] for i in top_recs]\n",
    "    return recommendations"
   ]
  },
  {
   "cell_type": "code",
   "execution_count": 57,
   "metadata": {},
   "outputs": [
    {
     "name": "stdout",
     "output_type": "stream",
     "text": [
      "Top 5 recommended products:\n"
     ]
    },
    {
     "data": {
      "text/plain": [
       "[['22423', 'REGENCY CAKESTAND 3 TIER'],\n",
       " ['22776', 'SWEETHEART CAKESTAND 3 TIER'],\n",
       " ['22624', 'IVORY KITCHEN SCALES'],\n",
       " ['85123A', 'WHITE HANGING HEART T-LIGHT HOLDER'],\n",
       " ['85099B', 'JUMBO BAG RED RETROSPOT']]"
      ]
     },
     "execution_count": 57,
     "metadata": {},
     "output_type": "execute_result"
    }
   ],
   "source": [
    "print(\"Top 5 recommended products:\")\n",
    "get_recommendations(df, top_customer, n_recommendations=5, n_ranks=100)"
   ]
  },
  {
   "cell_type": "markdown",
   "metadata": {},
   "source": [
    "## Build Pipeline\n",
    "\n",
    "Now that we are comfotable with the model that we built.\n",
    "Model training is not one-and-done task. You will want to improve your model with new data as well as changes in customer purchase behavior over time. Improving models takes thousands of repetitions of all the steps we just went through. \n",
    "Having these steps automated using Pipielines allows to reply the whole workflow with single click and save hours of manual work.\n",
    "\n",
    "First let's upload our raw data to s3."
   ]
  },
  {
   "cell_type": "code",
   "execution_count": 58,
   "metadata": {},
   "outputs": [],
   "source": [
    "base_uri = f\"s3://{bucket}/data\"\n",
    "input_data_uri = sagemaker.s3.S3Uploader.upload(\n",
    "    local_path=\"data/Online Retail.csv\", desired_s3_uri=base_uri\n",
    ")\n",
    "\n",
    "input_data = ParameterString(name=\"InputData\", default_value=input_data_uri)"
   ]
  },
  {
   "cell_type": "markdown",
   "metadata": {},
   "source": [
    "We will then set a model approvel status of Approved, meaning this model is approved for production. \n",
    "In pracitice, you might want to set this to Pending manual approval, so that someone needs to go in and manually approve the model for production later."
   ]
  },
  {
   "cell_type": "code",
   "execution_count": 59,
   "metadata": {},
   "outputs": [],
   "source": [
    "model_approval_status = ParameterString(\n",
    "    name=\"ModelApprovalStatus\", default_value=\"PendingManualApproval\"\n",
    ")"
   ]
  },
  {
   "cell_type": "markdown",
   "metadata": {},
   "source": [
    "Next, we define a customeized step for preprocessing  our data. Our preprocessing.py file has all the transmation that we perfromed above, including spiltting the data into training and testing sets and saving them to protobuf format. \n",
    "We specify the outputs to contain both the training data and testing data, so we can use them in subsequent steps."
   ]
  },
  {
   "cell_type": "code",
   "execution_count": 60,
   "metadata": {},
   "outputs": [],
   "source": [
    "create_dataset_script_uri = f\"s3://{bucket}/{prefix}/code/preprocessing.py\"\n",
    "s3_client.upload_file(\n",
    "    Filename=\"preprocessing.py\", Bucket=bucket, Key=f\"{prefix}/code/preprocessing.py\"\n",
    ")\n",
    "\n",
    "sklearn_processor = SKLearnProcessor(\n",
    "    framework_version=\"0.23-1\",\n",
    "    instance_type=\"ml.m5.xlarge\",\n",
    "    instance_count=1,\n",
    "    base_job_name=\"sklearn-retail-sales-process\",\n",
    "    role=sagemaker_role,\n",
    ")\n",
    "\n",
    "create_dataset_step = ProcessingStep(\n",
    "    name=\"PreprocessData\",\n",
    "    processor=sklearn_processor,\n",
    "    inputs=[\n",
    "        sagemaker.processing.ProcessingInput(\n",
    "            source=input_data, destination=\"/opt/ml/processing/input\"\n",
    "        ),\n",
    "    ],\n",
    "    outputs=[\n",
    "        sagemaker.processing.ProcessingOutput(\n",
    "            output_name=\"train_data\", source=\"/opt/ml/processing/output/train\"\n",
    "        ),\n",
    "        sagemaker.processing.ProcessingOutput(\n",
    "            output_name=\"test_data\", source=\"/opt/ml/processing/output/test\"\n",
    "        ),\n",
    "    ],\n",
    "    code=create_dataset_script_uri,\n",
    ")"
   ]
  },
  {
   "cell_type": "markdown",
   "metadata": {},
   "source": [
    "SageMaker comes with a pre-made training step in the SageMaker SDK, which abstracts away most of the generic processor code. All we need to give this step is the estimator and an input, which, in this case, is the training and testing data. \n",
    "These are the same training and testing data that we created above. "
   ]
  },
  {
   "cell_type": "code",
   "execution_count": 61,
   "metadata": {},
   "outputs": [],
   "source": [
    "train_step = TrainingStep(\n",
    "    name=\"TrainingStep\",\n",
    "    estimator=fm,\n",
    "    inputs={\n",
    "        \"train\": sagemaker.inputs.TrainingInput(\n",
    "            s3_data=create_dataset_step.properties.ProcessingOutputConfig.Outputs[\n",
    "                \"train_data\"\n",
    "            ].S3Output.S3Uri\n",
    "        ),\n",
    "        \"test\": sagemaker.inputs.TrainingInput(\n",
    "            s3_data=create_dataset_step.properties.ProcessingOutputConfig.Outputs[\n",
    "                \"test_data\"\n",
    "            ].S3Output.S3Uri\n",
    "        ),\n",
    "    },\n",
    ")"
   ]
  },
  {
   "cell_type": "code",
   "execution_count": 62,
   "metadata": {},
   "outputs": [],
   "source": [
    "model = sagemaker.model.Model(\n",
    "    name=\"retail-personalization-factorization-machine\",\n",
    "    image_uri=train_step.properties.AlgorithmSpecification.TrainingImage,\n",
    "    model_data=train_step.properties.ModelArtifacts.S3ModelArtifacts,\n",
    "    sagemaker_session=sagemaker_session,\n",
    "    role=sagemaker_role,\n",
    ")\n",
    "\n",
    "inputs = sagemaker.inputs.CreateModelInput(instance_type=\"ml.m4.xlarge\")\n",
    "\n",
    "create_model_step = CreateModelStep(name=\"CreateModel\", model=model, inputs=inputs)"
   ]
  },
  {
   "cell_type": "code",
   "execution_count": 63,
   "metadata": {},
   "outputs": [],
   "source": [
    "register_step = RegisterModel(\n",
    "    name=\"RegisterModel\",\n",
    "    estimator=fm,\n",
    "    model_data=train_step.properties.ModelArtifacts.S3ModelArtifacts,\n",
    "    content_types=[\"application/x-recordio-protobuf\", \"application/json\"],\n",
    "    response_types=[\"text/csv\"],\n",
    "    inference_instances=[\"ml.t2.medium\", \"ml.m5.xlarge\"],\n",
    "    transform_instances=[\"ml.m5.xlarge\"],\n",
    "    model_package_group_name=mpg_name,\n",
    "    approval_status=model_approval_status,\n",
    ")"
   ]
  },
  {
   "cell_type": "code",
   "execution_count": 64,
   "metadata": {},
   "outputs": [],
   "source": [
    "s3_client.upload_file(Filename=\"deploy.py\", Bucket=bucket, Key=f\"{prefix}/code/deploy.py\")\n",
    "deploy_script_uri = f\"s3://{bucket}/{prefix}/code/deploy.py\"\n",
    "\n",
    "deployment_processor = SKLearnProcessor(\n",
    "    framework_version=\"0.23-1\",\n",
    "    role=sagemaker_role,\n",
    "    instance_type=\"ml.t3.medium\",\n",
    "    instance_count=1,\n",
    "    base_job_name=f\"{prefix}-deploy\",\n",
    "    sagemaker_session=sagemaker_session,\n",
    ")\n",
    "\n",
    "deploy_step = ProcessingStep(\n",
    "    name=\"DeployModel\",\n",
    "    processor=deployment_processor,\n",
    "    job_arguments=[\n",
    "        \"--model-name\",\n",
    "        create_model_step.properties.ModelName,\n",
    "        \"--region\",\n",
    "        region,\n",
    "        \"--endpoint-instance-type\",\n",
    "        \"ml.m4.xlarge\",\n",
    "        \"--endpoint-name\",\n",
    "        \"retail-recommendation-endpoint\",\n",
    "    ],\n",
    "    code=deploy_script_uri,\n",
    ")"
   ]
  },
  {
   "cell_type": "code",
   "execution_count": 65,
   "metadata": {},
   "outputs": [
    {
     "name": "stdout",
     "output_type": "stream",
     "text": [
      "Stored 'pipeline_name' (str)\n"
     ]
    }
   ],
   "source": [
    "pipeline_name = f\"PersonalizationDemo\"\n",
    "%store pipeline_name\n",
    "\n",
    "pipeline = Pipeline(\n",
    "    name=pipeline_name,\n",
    "    parameters=[input_data, model_approval_status],\n",
    "    steps=[create_dataset_step, train_step, create_model_step, register_step, deploy_step],\n",
    ")"
   ]
  },
  {
   "cell_type": "code",
   "execution_count": 68,
   "metadata": {},
   "outputs": [
    {
     "ename": "TypeError",
     "evalue": "expected string or bytes-like object",
     "output_type": "error",
     "traceback": [
      "\u001b[0;31m---------------------------------------------------------------------------\u001b[0m",
      "\u001b[0;31mTypeError\u001b[0m                                 Traceback (most recent call last)",
      "\u001b[0;32m<ipython-input-68-489ba6965c19>\u001b[0m in \u001b[0;36m<module>\u001b[0;34m\u001b[0m\n\u001b[0;32m----> 1\u001b[0;31m \u001b[0mpipeline\u001b[0m\u001b[0;34m.\u001b[0m\u001b[0mupsert\u001b[0m\u001b[0;34m(\u001b[0m\u001b[0mrole_arn\u001b[0m\u001b[0;34m=\u001b[0m\u001b[0msagemaker_role\u001b[0m\u001b[0;34m)\u001b[0m\u001b[0;34m\u001b[0m\u001b[0;34m\u001b[0m\u001b[0m\n\u001b[0m",
      "\u001b[0;32m~/anaconda3/envs/python3/lib/python3.6/site-packages/sagemaker/workflow/pipeline.py\u001b[0m in \u001b[0;36mupsert\u001b[0;34m(self, role_arn, description, tags, parallelism_config)\u001b[0m\n\u001b[1;32m    217\u001b[0m         \"\"\"\n\u001b[1;32m    218\u001b[0m         \u001b[0;32mtry\u001b[0m\u001b[0;34m:\u001b[0m\u001b[0;34m\u001b[0m\u001b[0;34m\u001b[0m\u001b[0m\n\u001b[0;32m--> 219\u001b[0;31m             \u001b[0mresponse\u001b[0m \u001b[0;34m=\u001b[0m \u001b[0mself\u001b[0m\u001b[0;34m.\u001b[0m\u001b[0mcreate\u001b[0m\u001b[0;34m(\u001b[0m\u001b[0mrole_arn\u001b[0m\u001b[0;34m,\u001b[0m \u001b[0mdescription\u001b[0m\u001b[0;34m,\u001b[0m \u001b[0mtags\u001b[0m\u001b[0;34m,\u001b[0m \u001b[0mparallelism_config\u001b[0m\u001b[0;34m)\u001b[0m\u001b[0;34m\u001b[0m\u001b[0;34m\u001b[0m\u001b[0m\n\u001b[0m\u001b[1;32m    220\u001b[0m         \u001b[0;32mexcept\u001b[0m \u001b[0mClientError\u001b[0m \u001b[0;32mas\u001b[0m \u001b[0me\u001b[0m\u001b[0;34m:\u001b[0m\u001b[0;34m\u001b[0m\u001b[0;34m\u001b[0m\u001b[0m\n\u001b[1;32m    221\u001b[0m             \u001b[0merror\u001b[0m \u001b[0;34m=\u001b[0m \u001b[0me\u001b[0m\u001b[0;34m.\u001b[0m\u001b[0mresponse\u001b[0m\u001b[0;34m[\u001b[0m\u001b[0;34m\"Error\"\u001b[0m\u001b[0;34m]\u001b[0m\u001b[0;34m\u001b[0m\u001b[0;34m\u001b[0m\u001b[0m\n",
      "\u001b[0;32m~/anaconda3/envs/python3/lib/python3.6/site-packages/sagemaker/workflow/pipeline.py\u001b[0m in \u001b[0;36mcreate\u001b[0;34m(self, role_arn, description, tags, parallelism_config)\u001b[0m\n\u001b[1;32m    114\u001b[0m         \"\"\"\n\u001b[1;32m    115\u001b[0m         \u001b[0mtags\u001b[0m \u001b[0;34m=\u001b[0m \u001b[0m_append_project_tags\u001b[0m\u001b[0;34m(\u001b[0m\u001b[0mtags\u001b[0m\u001b[0;34m)\u001b[0m\u001b[0;34m\u001b[0m\u001b[0;34m\u001b[0m\u001b[0m\n\u001b[0;32m--> 116\u001b[0;31m         \u001b[0mkwargs\u001b[0m \u001b[0;34m=\u001b[0m \u001b[0mself\u001b[0m\u001b[0;34m.\u001b[0m\u001b[0m_create_args\u001b[0m\u001b[0;34m(\u001b[0m\u001b[0mrole_arn\u001b[0m\u001b[0;34m,\u001b[0m \u001b[0mdescription\u001b[0m\u001b[0;34m,\u001b[0m \u001b[0mparallelism_config\u001b[0m\u001b[0;34m)\u001b[0m\u001b[0;34m\u001b[0m\u001b[0;34m\u001b[0m\u001b[0m\n\u001b[0m\u001b[1;32m    117\u001b[0m         update_args(\n\u001b[1;32m    118\u001b[0m             \u001b[0mkwargs\u001b[0m\u001b[0;34m,\u001b[0m\u001b[0;34m\u001b[0m\u001b[0;34m\u001b[0m\u001b[0m\n",
      "\u001b[0;32m~/anaconda3/envs/python3/lib/python3.6/site-packages/sagemaker/workflow/pipeline.py\u001b[0m in \u001b[0;36m_create_args\u001b[0;34m(self, role_arn, description, parallelism_config)\u001b[0m\n\u001b[1;32m    136\u001b[0m             \u001b[0mA\u001b[0m \u001b[0mkeyword\u001b[0m \u001b[0margument\u001b[0m \u001b[0mdict\u001b[0m \u001b[0;32mfor\u001b[0m \u001b[0mcalling\u001b[0m \u001b[0mcreate_pipeline\u001b[0m\u001b[0;34m.\u001b[0m\u001b[0;34m\u001b[0m\u001b[0;34m\u001b[0m\u001b[0m\n\u001b[1;32m    137\u001b[0m         \"\"\"\n\u001b[0;32m--> 138\u001b[0;31m         \u001b[0mpipeline_definition\u001b[0m \u001b[0;34m=\u001b[0m \u001b[0mself\u001b[0m\u001b[0;34m.\u001b[0m\u001b[0mdefinition\u001b[0m\u001b[0;34m(\u001b[0m\u001b[0;34m)\u001b[0m\u001b[0;34m\u001b[0m\u001b[0;34m\u001b[0m\u001b[0m\n\u001b[0m\u001b[1;32m    139\u001b[0m         kwargs = dict(\n\u001b[1;32m    140\u001b[0m             \u001b[0mPipelineName\u001b[0m\u001b[0;34m=\u001b[0m\u001b[0mself\u001b[0m\u001b[0;34m.\u001b[0m\u001b[0mname\u001b[0m\u001b[0;34m,\u001b[0m\u001b[0;34m\u001b[0m\u001b[0;34m\u001b[0m\u001b[0m\n",
      "\u001b[0;32m~/anaconda3/envs/python3/lib/python3.6/site-packages/sagemaker/workflow/pipeline.py\u001b[0m in \u001b[0;36mdefinition\u001b[0;34m(self)\u001b[0m\n\u001b[1;32m    299\u001b[0m     \u001b[0;32mdef\u001b[0m \u001b[0mdefinition\u001b[0m\u001b[0;34m(\u001b[0m\u001b[0mself\u001b[0m\u001b[0;34m)\u001b[0m \u001b[0;34m->\u001b[0m \u001b[0mstr\u001b[0m\u001b[0;34m:\u001b[0m\u001b[0;34m\u001b[0m\u001b[0;34m\u001b[0m\u001b[0m\n\u001b[1;32m    300\u001b[0m         \u001b[0;34m\"\"\"Converts a request structure to string representation for workflow service calls.\"\"\"\u001b[0m\u001b[0;34m\u001b[0m\u001b[0;34m\u001b[0m\u001b[0m\n\u001b[0;32m--> 301\u001b[0;31m         \u001b[0mrequest_dict\u001b[0m \u001b[0;34m=\u001b[0m \u001b[0mself\u001b[0m\u001b[0;34m.\u001b[0m\u001b[0mto_request\u001b[0m\u001b[0;34m(\u001b[0m\u001b[0;34m)\u001b[0m\u001b[0;34m\u001b[0m\u001b[0;34m\u001b[0m\u001b[0m\n\u001b[0m\u001b[1;32m    302\u001b[0m         request_dict[\"PipelineExperimentConfig\"] = interpolate(\n\u001b[1;32m    303\u001b[0m             \u001b[0mrequest_dict\u001b[0m\u001b[0;34m[\u001b[0m\u001b[0;34m\"PipelineExperimentConfig\"\u001b[0m\u001b[0;34m]\u001b[0m\u001b[0;34m,\u001b[0m \u001b[0;34m{\u001b[0m\u001b[0;34m}\u001b[0m\u001b[0;34m,\u001b[0m \u001b[0;34m{\u001b[0m\u001b[0;34m}\u001b[0m\u001b[0;34m\u001b[0m\u001b[0;34m\u001b[0m\u001b[0m\n",
      "\u001b[0;32m~/anaconda3/envs/python3/lib/python3.6/site-packages/sagemaker/workflow/pipeline.py\u001b[0m in \u001b[0;36mto_request\u001b[0;34m(self)\u001b[0m\n\u001b[1;32m     89\u001b[0m             \u001b[0;32mif\u001b[0m \u001b[0mself\u001b[0m\u001b[0;34m.\u001b[0m\u001b[0mpipeline_experiment_config\u001b[0m \u001b[0;32mis\u001b[0m \u001b[0;32mnot\u001b[0m \u001b[0;32mNone\u001b[0m\u001b[0;34m\u001b[0m\u001b[0;34m\u001b[0m\u001b[0m\n\u001b[1;32m     90\u001b[0m             \u001b[0;32melse\u001b[0m \u001b[0;32mNone\u001b[0m\u001b[0;34m,\u001b[0m\u001b[0;34m\u001b[0m\u001b[0;34m\u001b[0m\u001b[0m\n\u001b[0;32m---> 91\u001b[0;31m             \u001b[0;34m\"Steps\"\u001b[0m\u001b[0;34m:\u001b[0m \u001b[0mlist_to_request\u001b[0m\u001b[0;34m(\u001b[0m\u001b[0mself\u001b[0m\u001b[0;34m.\u001b[0m\u001b[0msteps\u001b[0m\u001b[0;34m)\u001b[0m\u001b[0;34m,\u001b[0m\u001b[0;34m\u001b[0m\u001b[0;34m\u001b[0m\u001b[0m\n\u001b[0m\u001b[1;32m     92\u001b[0m         }\n\u001b[1;32m     93\u001b[0m \u001b[0;34m\u001b[0m\u001b[0m\n",
      "\u001b[0;32m~/anaconda3/envs/python3/lib/python3.6/site-packages/sagemaker/workflow/utilities.py\u001b[0m in \u001b[0;36mlist_to_request\u001b[0;34m(entities)\u001b[0m\n\u001b[1;32m     35\u001b[0m     \u001b[0;32mfor\u001b[0m \u001b[0mentity\u001b[0m \u001b[0;32min\u001b[0m \u001b[0mentities\u001b[0m\u001b[0;34m:\u001b[0m\u001b[0;34m\u001b[0m\u001b[0;34m\u001b[0m\u001b[0m\n\u001b[1;32m     36\u001b[0m         \u001b[0;32mif\u001b[0m \u001b[0misinstance\u001b[0m\u001b[0;34m(\u001b[0m\u001b[0mentity\u001b[0m\u001b[0;34m,\u001b[0m \u001b[0mEntity\u001b[0m\u001b[0;34m)\u001b[0m\u001b[0;34m:\u001b[0m\u001b[0;34m\u001b[0m\u001b[0;34m\u001b[0m\u001b[0m\n\u001b[0;32m---> 37\u001b[0;31m             \u001b[0mrequest_dicts\u001b[0m\u001b[0;34m.\u001b[0m\u001b[0mappend\u001b[0m\u001b[0;34m(\u001b[0m\u001b[0mentity\u001b[0m\u001b[0;34m.\u001b[0m\u001b[0mto_request\u001b[0m\u001b[0;34m(\u001b[0m\u001b[0;34m)\u001b[0m\u001b[0;34m)\u001b[0m\u001b[0;34m\u001b[0m\u001b[0;34m\u001b[0m\u001b[0m\n\u001b[0m\u001b[1;32m     38\u001b[0m         \u001b[0;32melif\u001b[0m \u001b[0misinstance\u001b[0m\u001b[0;34m(\u001b[0m\u001b[0mentity\u001b[0m\u001b[0;34m,\u001b[0m \u001b[0mStepCollection\u001b[0m\u001b[0;34m)\u001b[0m\u001b[0;34m:\u001b[0m\u001b[0;34m\u001b[0m\u001b[0;34m\u001b[0m\u001b[0m\n\u001b[1;32m     39\u001b[0m             \u001b[0mrequest_dicts\u001b[0m\u001b[0;34m.\u001b[0m\u001b[0mextend\u001b[0m\u001b[0;34m(\u001b[0m\u001b[0mentity\u001b[0m\u001b[0;34m.\u001b[0m\u001b[0mrequest_dicts\u001b[0m\u001b[0;34m(\u001b[0m\u001b[0;34m)\u001b[0m\u001b[0;34m)\u001b[0m\u001b[0;34m\u001b[0m\u001b[0;34m\u001b[0m\u001b[0m\n",
      "\u001b[0;32m~/anaconda3/envs/python3/lib/python3.6/site-packages/sagemaker/workflow/steps.py\u001b[0m in \u001b[0;36mto_request\u001b[0;34m(self)\u001b[0m\n\u001b[1;32m    212\u001b[0m     \u001b[0;32mdef\u001b[0m \u001b[0mto_request\u001b[0m\u001b[0;34m(\u001b[0m\u001b[0mself\u001b[0m\u001b[0;34m)\u001b[0m \u001b[0;34m->\u001b[0m \u001b[0mRequestType\u001b[0m\u001b[0;34m:\u001b[0m\u001b[0;34m\u001b[0m\u001b[0;34m\u001b[0m\u001b[0m\n\u001b[1;32m    213\u001b[0m         \u001b[0;34m\"\"\"Gets the request structure for `ConfigurableRetryStep`.\"\"\"\u001b[0m\u001b[0;34m\u001b[0m\u001b[0;34m\u001b[0m\u001b[0m\n\u001b[0;32m--> 214\u001b[0;31m         \u001b[0mstep_dict\u001b[0m \u001b[0;34m=\u001b[0m \u001b[0msuper\u001b[0m\u001b[0;34m(\u001b[0m\u001b[0;34m)\u001b[0m\u001b[0;34m.\u001b[0m\u001b[0mto_request\u001b[0m\u001b[0;34m(\u001b[0m\u001b[0;34m)\u001b[0m\u001b[0;34m\u001b[0m\u001b[0;34m\u001b[0m\u001b[0m\n\u001b[0m\u001b[1;32m    215\u001b[0m         \u001b[0;32mif\u001b[0m \u001b[0mself\u001b[0m\u001b[0;34m.\u001b[0m\u001b[0mretry_policies\u001b[0m\u001b[0;34m:\u001b[0m\u001b[0;34m\u001b[0m\u001b[0;34m\u001b[0m\u001b[0m\n\u001b[1;32m    216\u001b[0m             \u001b[0mstep_dict\u001b[0m\u001b[0;34m[\u001b[0m\u001b[0;34m\"RetryPolicies\"\u001b[0m\u001b[0;34m]\u001b[0m \u001b[0;34m=\u001b[0m \u001b[0mself\u001b[0m\u001b[0;34m.\u001b[0m\u001b[0m_resolve_retry_policy\u001b[0m\u001b[0;34m(\u001b[0m\u001b[0mself\u001b[0m\u001b[0;34m.\u001b[0m\u001b[0mretry_policies\u001b[0m\u001b[0;34m)\u001b[0m\u001b[0;34m\u001b[0m\u001b[0;34m\u001b[0m\u001b[0m\n",
      "\u001b[0;32m~/anaconda3/envs/python3/lib/python3.6/site-packages/sagemaker/workflow/steps.py\u001b[0m in \u001b[0;36mto_request\u001b[0;34m(self)\u001b[0m\n\u001b[1;32m    101\u001b[0m             \u001b[0;34m\"Name\"\u001b[0m\u001b[0;34m:\u001b[0m \u001b[0mself\u001b[0m\u001b[0;34m.\u001b[0m\u001b[0mname\u001b[0m\u001b[0;34m,\u001b[0m\u001b[0;34m\u001b[0m\u001b[0;34m\u001b[0m\u001b[0m\n\u001b[1;32m    102\u001b[0m             \u001b[0;34m\"Type\"\u001b[0m\u001b[0;34m:\u001b[0m \u001b[0mself\u001b[0m\u001b[0;34m.\u001b[0m\u001b[0mstep_type\u001b[0m\u001b[0;34m.\u001b[0m\u001b[0mvalue\u001b[0m\u001b[0;34m,\u001b[0m\u001b[0;34m\u001b[0m\u001b[0;34m\u001b[0m\u001b[0m\n\u001b[0;32m--> 103\u001b[0;31m             \u001b[0;34m\"Arguments\"\u001b[0m\u001b[0;34m:\u001b[0m \u001b[0mself\u001b[0m\u001b[0;34m.\u001b[0m\u001b[0marguments\u001b[0m\u001b[0;34m,\u001b[0m\u001b[0;34m\u001b[0m\u001b[0;34m\u001b[0m\u001b[0m\n\u001b[0m\u001b[1;32m    104\u001b[0m         }\n\u001b[1;32m    105\u001b[0m         \u001b[0;32mif\u001b[0m \u001b[0mself\u001b[0m\u001b[0;34m.\u001b[0m\u001b[0mdepends_on\u001b[0m\u001b[0;34m:\u001b[0m\u001b[0;34m\u001b[0m\u001b[0;34m\u001b[0m\u001b[0m\n",
      "\u001b[0;32m~/anaconda3/envs/python3/lib/python3.6/site-packages/sagemaker/workflow/steps.py\u001b[0m in \u001b[0;36marguments\u001b[0;34m(self)\u001b[0m\n\u001b[1;32m    381\u001b[0m                 container_defs=self.model.prepare_container_def(\n\u001b[1;32m    382\u001b[0m                     \u001b[0minstance_type\u001b[0m\u001b[0;34m=\u001b[0m\u001b[0mself\u001b[0m\u001b[0;34m.\u001b[0m\u001b[0minputs\u001b[0m\u001b[0;34m.\u001b[0m\u001b[0minstance_type\u001b[0m\u001b[0;34m,\u001b[0m\u001b[0;34m\u001b[0m\u001b[0;34m\u001b[0m\u001b[0m\n\u001b[0;32m--> 383\u001b[0;31m                     \u001b[0maccelerator_type\u001b[0m\u001b[0;34m=\u001b[0m\u001b[0mself\u001b[0m\u001b[0;34m.\u001b[0m\u001b[0minputs\u001b[0m\u001b[0;34m.\u001b[0m\u001b[0maccelerator_type\u001b[0m\u001b[0;34m,\u001b[0m\u001b[0;34m\u001b[0m\u001b[0;34m\u001b[0m\u001b[0m\n\u001b[0m\u001b[1;32m    384\u001b[0m                 ),\n\u001b[1;32m    385\u001b[0m                 \u001b[0mvpc_config\u001b[0m\u001b[0;34m=\u001b[0m\u001b[0mself\u001b[0m\u001b[0;34m.\u001b[0m\u001b[0mmodel\u001b[0m\u001b[0;34m.\u001b[0m\u001b[0mvpc_config\u001b[0m\u001b[0;34m,\u001b[0m\u001b[0;34m\u001b[0m\u001b[0;34m\u001b[0m\u001b[0m\n",
      "\u001b[0;32m~/anaconda3/envs/python3/lib/python3.6/site-packages/sagemaker/model.py\u001b[0m in \u001b[0;36mprepare_container_def\u001b[0;34m(self, instance_type, accelerator_type)\u001b[0m\n\u001b[1;32m    404\u001b[0m         \"\"\"\n\u001b[1;32m    405\u001b[0m         deploy_key_prefix = fw_utils.model_code_key_prefix(\n\u001b[0;32m--> 406\u001b[0;31m             \u001b[0mself\u001b[0m\u001b[0;34m.\u001b[0m\u001b[0mkey_prefix\u001b[0m\u001b[0;34m,\u001b[0m \u001b[0mself\u001b[0m\u001b[0;34m.\u001b[0m\u001b[0mname\u001b[0m\u001b[0;34m,\u001b[0m \u001b[0mself\u001b[0m\u001b[0;34m.\u001b[0m\u001b[0mimage_uri\u001b[0m\u001b[0;34m\u001b[0m\u001b[0;34m\u001b[0m\u001b[0m\n\u001b[0m\u001b[1;32m    407\u001b[0m         )\n\u001b[1;32m    408\u001b[0m         \u001b[0mdeploy_env\u001b[0m \u001b[0;34m=\u001b[0m \u001b[0mcopy\u001b[0m\u001b[0;34m.\u001b[0m\u001b[0mdeepcopy\u001b[0m\u001b[0;34m(\u001b[0m\u001b[0mself\u001b[0m\u001b[0;34m.\u001b[0m\u001b[0menv\u001b[0m\u001b[0;34m)\u001b[0m\u001b[0;34m\u001b[0m\u001b[0;34m\u001b[0m\u001b[0m\n",
      "\u001b[0;32m~/anaconda3/envs/python3/lib/python3.6/site-packages/sagemaker/fw_utils.py\u001b[0m in \u001b[0;36mmodel_code_key_prefix\u001b[0;34m(code_location_key_prefix, model_name, image)\u001b[0m\n\u001b[1;32m    393\u001b[0m         \u001b[0mstr\u001b[0m\u001b[0;34m:\u001b[0m \u001b[0mthe\u001b[0m \u001b[0mkey\u001b[0m \u001b[0mprefix\u001b[0m \u001b[0mto\u001b[0m \u001b[0mbe\u001b[0m \u001b[0mused\u001b[0m \u001b[0;32min\u001b[0m \u001b[0muploading\u001b[0m \u001b[0mcode\u001b[0m\u001b[0;34m\u001b[0m\u001b[0;34m\u001b[0m\u001b[0m\n\u001b[1;32m    394\u001b[0m     \"\"\"\n\u001b[0;32m--> 395\u001b[0;31m     \u001b[0mtraining_job_name\u001b[0m \u001b[0;34m=\u001b[0m \u001b[0msagemaker\u001b[0m\u001b[0;34m.\u001b[0m\u001b[0mutils\u001b[0m\u001b[0;34m.\u001b[0m\u001b[0mname_from_image\u001b[0m\u001b[0;34m(\u001b[0m\u001b[0mimage\u001b[0m\u001b[0;34m)\u001b[0m\u001b[0;34m\u001b[0m\u001b[0;34m\u001b[0m\u001b[0m\n\u001b[0m\u001b[1;32m    396\u001b[0m     \u001b[0;32mreturn\u001b[0m \u001b[0;34m\"/\"\u001b[0m\u001b[0;34m.\u001b[0m\u001b[0mjoin\u001b[0m\u001b[0;34m(\u001b[0m\u001b[0mfilter\u001b[0m\u001b[0;34m(\u001b[0m\u001b[0;32mNone\u001b[0m\u001b[0;34m,\u001b[0m \u001b[0;34m[\u001b[0m\u001b[0mcode_location_key_prefix\u001b[0m\u001b[0;34m,\u001b[0m \u001b[0mmodel_name\u001b[0m \u001b[0;32mor\u001b[0m \u001b[0mtraining_job_name\u001b[0m\u001b[0;34m]\u001b[0m\u001b[0;34m)\u001b[0m\u001b[0;34m)\u001b[0m\u001b[0;34m\u001b[0m\u001b[0;34m\u001b[0m\u001b[0m\n\u001b[1;32m    397\u001b[0m \u001b[0;34m\u001b[0m\u001b[0m\n",
      "\u001b[0;32m~/anaconda3/envs/python3/lib/python3.6/site-packages/sagemaker/utils.py\u001b[0m in \u001b[0;36mname_from_image\u001b[0;34m(image, max_length)\u001b[0m\n\u001b[1;32m     55\u001b[0m         \u001b[0mmax_length\u001b[0m \u001b[0;34m(\u001b[0m\u001b[0mint\u001b[0m\u001b[0;34m)\u001b[0m\u001b[0;34m:\u001b[0m \u001b[0mMaximum\u001b[0m \u001b[0mlength\u001b[0m \u001b[0;32mfor\u001b[0m \u001b[0mthe\u001b[0m \u001b[0mresulting\u001b[0m \u001b[0mstring\u001b[0m \u001b[0;34m(\u001b[0m\u001b[0mdefault\u001b[0m\u001b[0;34m:\u001b[0m \u001b[0;36m63\u001b[0m\u001b[0;34m)\u001b[0m\u001b[0;34m.\u001b[0m\u001b[0;34m\u001b[0m\u001b[0;34m\u001b[0m\u001b[0m\n\u001b[1;32m     56\u001b[0m     \"\"\"\n\u001b[0;32m---> 57\u001b[0;31m     \u001b[0;32mreturn\u001b[0m \u001b[0mname_from_base\u001b[0m\u001b[0;34m(\u001b[0m\u001b[0mbase_name_from_image\u001b[0m\u001b[0;34m(\u001b[0m\u001b[0mimage\u001b[0m\u001b[0;34m)\u001b[0m\u001b[0;34m,\u001b[0m \u001b[0mmax_length\u001b[0m\u001b[0;34m=\u001b[0m\u001b[0mmax_length\u001b[0m\u001b[0;34m)\u001b[0m\u001b[0;34m\u001b[0m\u001b[0;34m\u001b[0m\u001b[0m\n\u001b[0m\u001b[1;32m     58\u001b[0m \u001b[0;34m\u001b[0m\u001b[0m\n\u001b[1;32m     59\u001b[0m \u001b[0;34m\u001b[0m\u001b[0m\n",
      "\u001b[0;32m~/anaconda3/envs/python3/lib/python3.6/site-packages/sagemaker/utils.py\u001b[0m in \u001b[0;36mbase_name_from_image\u001b[0;34m(image)\u001b[0m\n\u001b[1;32m     96\u001b[0m         \u001b[0mstr\u001b[0m\u001b[0;34m:\u001b[0m \u001b[0mAlgorithm\u001b[0m \u001b[0mname\u001b[0m\u001b[0;34m,\u001b[0m \u001b[0;32mas\u001b[0m \u001b[0mextracted\u001b[0m \u001b[0;32mfrom\u001b[0m \u001b[0mthe\u001b[0m \u001b[0mimage\u001b[0m \u001b[0mname\u001b[0m\u001b[0;34m.\u001b[0m\u001b[0;34m\u001b[0m\u001b[0;34m\u001b[0m\u001b[0m\n\u001b[1;32m     97\u001b[0m     \"\"\"\n\u001b[0;32m---> 98\u001b[0;31m     \u001b[0mm\u001b[0m \u001b[0;34m=\u001b[0m \u001b[0mre\u001b[0m\u001b[0;34m.\u001b[0m\u001b[0mmatch\u001b[0m\u001b[0;34m(\u001b[0m\u001b[0;34m\"^(.+/)?([^:/]+)(:[^:]+)?$\"\u001b[0m\u001b[0;34m,\u001b[0m \u001b[0mimage\u001b[0m\u001b[0;34m)\u001b[0m\u001b[0;34m\u001b[0m\u001b[0;34m\u001b[0m\u001b[0m\n\u001b[0m\u001b[1;32m     99\u001b[0m     \u001b[0malgo_name\u001b[0m \u001b[0;34m=\u001b[0m \u001b[0mm\u001b[0m\u001b[0;34m.\u001b[0m\u001b[0mgroup\u001b[0m\u001b[0;34m(\u001b[0m\u001b[0;36m2\u001b[0m\u001b[0;34m)\u001b[0m \u001b[0;32mif\u001b[0m \u001b[0mm\u001b[0m \u001b[0;32melse\u001b[0m \u001b[0mimage\u001b[0m\u001b[0;34m\u001b[0m\u001b[0;34m\u001b[0m\u001b[0m\n\u001b[1;32m    100\u001b[0m     \u001b[0;32mreturn\u001b[0m \u001b[0malgo_name\u001b[0m\u001b[0;34m\u001b[0m\u001b[0;34m\u001b[0m\u001b[0m\n",
      "\u001b[0;32m~/anaconda3/envs/python3/lib/python3.6/re.py\u001b[0m in \u001b[0;36mmatch\u001b[0;34m(pattern, string, flags)\u001b[0m\n\u001b[1;32m    170\u001b[0m     \"\"\"Try to apply the pattern at the start of the string, returning\n\u001b[1;32m    171\u001b[0m     a match object, or None if no match was found.\"\"\"\n\u001b[0;32m--> 172\u001b[0;31m     \u001b[0;32mreturn\u001b[0m \u001b[0m_compile\u001b[0m\u001b[0;34m(\u001b[0m\u001b[0mpattern\u001b[0m\u001b[0;34m,\u001b[0m \u001b[0mflags\u001b[0m\u001b[0;34m)\u001b[0m\u001b[0;34m.\u001b[0m\u001b[0mmatch\u001b[0m\u001b[0;34m(\u001b[0m\u001b[0mstring\u001b[0m\u001b[0;34m)\u001b[0m\u001b[0;34m\u001b[0m\u001b[0;34m\u001b[0m\u001b[0m\n\u001b[0m\u001b[1;32m    173\u001b[0m \u001b[0;34m\u001b[0m\u001b[0m\n\u001b[1;32m    174\u001b[0m \u001b[0;32mdef\u001b[0m \u001b[0mfullmatch\u001b[0m\u001b[0;34m(\u001b[0m\u001b[0mpattern\u001b[0m\u001b[0;34m,\u001b[0m \u001b[0mstring\u001b[0m\u001b[0;34m,\u001b[0m \u001b[0mflags\u001b[0m\u001b[0;34m=\u001b[0m\u001b[0;36m0\u001b[0m\u001b[0;34m)\u001b[0m\u001b[0;34m:\u001b[0m\u001b[0;34m\u001b[0m\u001b[0;34m\u001b[0m\u001b[0m\n",
      "\u001b[0;31mTypeError\u001b[0m: expected string or bytes-like object"
     ]
    }
   ],
   "source": [
    "pipeline.upsert(role_arn=sagemaker_role)"
   ]
  },
  {
   "cell_type": "code",
   "execution_count": 67,
   "metadata": {},
   "outputs": [
    {
     "ename": "ValueError",
     "evalue": "This pipeline is not associated with a Pipeline in SageMaker. Please invoke create() first before attempting to invoke start().",
     "output_type": "error",
     "traceback": [
      "\u001b[0;31m---------------------------------------------------------------------------\u001b[0m",
      "\u001b[0;31mValueError\u001b[0m                                Traceback (most recent call last)",
      "\u001b[0;32m<ipython-input-67-3de8c59221de>\u001b[0m in \u001b[0;36m<module>\u001b[0;34m\u001b[0m\n\u001b[0;32m----> 1\u001b[0;31m \u001b[0mstart_response\u001b[0m \u001b[0;34m=\u001b[0m \u001b[0mpipeline\u001b[0m\u001b[0;34m.\u001b[0m\u001b[0mstart\u001b[0m\u001b[0;34m(\u001b[0m\u001b[0;34m)\u001b[0m\u001b[0;34m\u001b[0m\u001b[0;34m\u001b[0m\u001b[0m\n\u001b[0m\u001b[1;32m      2\u001b[0m \u001b[0mstart_response\u001b[0m\u001b[0;34m.\u001b[0m\u001b[0mwait\u001b[0m\u001b[0;34m(\u001b[0m\u001b[0;34m)\u001b[0m\u001b[0;34m\u001b[0m\u001b[0;34m\u001b[0m\u001b[0m\n\u001b[1;32m      3\u001b[0m \u001b[0mstart_response\u001b[0m\u001b[0;34m.\u001b[0m\u001b[0mdescribe\u001b[0m\u001b[0;34m(\u001b[0m\u001b[0;34m)\u001b[0m\u001b[0;34m\u001b[0m\u001b[0;34m\u001b[0m\u001b[0m\n",
      "\u001b[0;32m~/anaconda3/envs/python3/lib/python3.6/site-packages/sagemaker/workflow/pipeline.py\u001b[0m in \u001b[0;36mstart\u001b[0;34m(self, parameters, execution_display_name, execution_description, parallelism_config)\u001b[0m\n\u001b[1;32m    279\u001b[0m         \u001b[0;32mif\u001b[0m \u001b[0;32mnot\u001b[0m \u001b[0mexists\u001b[0m\u001b[0;34m:\u001b[0m\u001b[0;34m\u001b[0m\u001b[0;34m\u001b[0m\u001b[0m\n\u001b[1;32m    280\u001b[0m             raise ValueError(\n\u001b[0;32m--> 281\u001b[0;31m                 \u001b[0;34m\"This pipeline is not associated with a Pipeline in SageMaker. \"\u001b[0m\u001b[0;34m\u001b[0m\u001b[0;34m\u001b[0m\u001b[0m\n\u001b[0m\u001b[1;32m    282\u001b[0m                 \u001b[0;34m\"Please invoke create() first before attempting to invoke start().\"\u001b[0m\u001b[0;34m\u001b[0m\u001b[0;34m\u001b[0m\u001b[0m\n\u001b[1;32m    283\u001b[0m             )\n",
      "\u001b[0;31mValueError\u001b[0m: This pipeline is not associated with a Pipeline in SageMaker. Please invoke create() first before attempting to invoke start()."
     ]
    }
   ],
   "source": [
    "start_response = pipeline.start()\n",
    "start_response.wait()\n",
    "start_response.describe()"
   ]
  },
  {
   "cell_type": "code",
   "execution_count": null,
   "metadata": {},
   "outputs": [],
   "source": []
  }
 ],
 "metadata": {
  "instance_type": "ml.t3.medium",
  "kernelspec": {
   "display_name": "conda_python3",
   "language": "python",
   "name": "conda_python3"
  },
  "language_info": {
   "codemirror_mode": {
    "name": "ipython",
    "version": 3
   },
   "file_extension": ".py",
   "mimetype": "text/x-python",
   "name": "python",
   "nbconvert_exporter": "python",
   "pygments_lexer": "ipython3",
   "version": "3.6.13"
  }
 },
 "nbformat": 4,
 "nbformat_minor": 4
}
